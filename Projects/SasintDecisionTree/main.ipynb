{
 "cells": [
  {
   "cell_type": "markdown",
   "metadata": {
    "collapsed": true
   },
   "source": [
    "# Sasint Decision tree project"
   ]
  },
  {
   "cell_type": "code",
   "execution_count": 9,
   "metadata": {},
   "outputs": [],
   "source": [
    "from sklearn.tree import DecisionTreeClassifier\n",
    "from sklearn.model_selection import train_test_split\n",
    "import pandas as pd"
   ]
  },
  {
   "cell_type": "code",
   "execution_count": 10,
   "metadata": {},
   "outputs": [],
   "source": [
    "training = open(\"training.txt\").readlines()\n",
    "testing = open(\"testing.txt\").readlines()"
   ]
  },
  {
   "cell_type": "code",
   "execution_count": 11,
   "metadata": {},
   "outputs": [
    {
     "name": "stdout",
     "output_type": "stream",
     "text": [
      "4 0:2 1:3 2:2 3:1 4:2 5:3 6:2 7:3 8:2 9:2 10:2 11:2 12:2 13:1 14:2 15:2 16:2 17:2 18:2 19:1 20:1 21:1 22:2 23:2 24:1 25:3 26:1 27:3 28:2 29:2 30:2 31:2 32:2 33:2 34:2 35:2 36:2 37:2 38:2 39:2 40:2 41:3 42:2 43:1 44:1 45:2 46:2 47:2 48:2 49:1 50:3 51:2 52:3 53:3 54:1 55:2 56:2 57:3 58:1 59:3 60:2 61:2 62:3 63:1 64:2 65:2 66:2 67:1 68:2 69:3 70:2 71:3 72:2 73:2 74:2 75:2 76:2 77:1 78:1 79:2 80:2 81:1 82:2 83:1 84:1 85:1 86:3 87:2 88:2 89:3 90:1 91:3 92:2 93:2 94:2 95:2 96:2 97:2 98:2 99:2 100:2 101:2 102:2 103:2 104:2 105:3 106:2 107:1 108:1 109:2 110:2 111:2 112:2 113:1 114:3 115:2 116:3 117:2 118:1 119:1 120:2 121:3 122:1 123:3 124:2 125:3 126:3 127:1\n",
      "\n"
     ]
    }
   ],
   "source": [
    "print(training[1])"
   ]
  },
  {
   "cell_type": "code",
   "execution_count": 12,
   "metadata": {},
   "outputs": [
    {
     "name": "stdout",
     "output_type": "stream",
     "text": [
      "0:2 1:2 2:2 3:1 4:2 5:2 6:1 7:2 8:2 9:2 10:2 11:1 12:2 13:3 14:1 15:2 16:1 17:2 18:2 19:3 20:2 21:2 22:3 23:2 24:1 25:2 26:3 27:1 28:2 29:2 30:2 31:2 32:2 33:3 34:2 35:1 36:2 37:1 38:1 39:2 40:2 41:2 42:2 43:1 44:3 45:2 46:3 47:3 48:2 49:2 50:1 51:2 52:2 53:1 54:3 55:2 56:2 57:2 58:3 59:3 60:3 61:2 62:2 63:3 64:2 65:2 66:2 67:1 68:2 69:2 70:1 71:2 72:2 73:2 74:2 75:1 76:2 77:3 78:1 79:2 80:1 81:2 82:2 83:3 84:2 85:2 86:3 87:2 88:1 89:2 90:3 91:1 92:2 93:2 94:2 95:2 96:2 97:3 98:2 99:1 100:2 101:1 102:1 103:2 104:3 105:2 106:2 107:1 108:3 109:2 110:3 111:3 112:2 113:2 114:1 115:2 116:2 117:1 118:3 119:2 120:2 121:2 122:3 123:3 124:3 125:2 126:2 127:3\n",
      "\n"
     ]
    }
   ],
   "source": [
    "print(testing[1])"
   ]
  },
  {
   "cell_type": "code",
   "execution_count": null,
   "metadata": {},
   "outputs": [],
   "source": []
  }
 ],
 "metadata": {
  "kernelspec": {
   "display_name": "Python 3",
   "language": "python",
   "name": "python3"
  },
  "language_info": {
   "codemirror_mode": {
    "name": "ipython",
    "version": 3
   },
   "file_extension": ".py",
   "mimetype": "text/x-python",
   "name": "python",
   "nbconvert_exporter": "python",
   "pygments_lexer": "ipython3",
   "version": "3.6.4"
  }
 },
 "nbformat": 4,
 "nbformat_minor": 1
}
