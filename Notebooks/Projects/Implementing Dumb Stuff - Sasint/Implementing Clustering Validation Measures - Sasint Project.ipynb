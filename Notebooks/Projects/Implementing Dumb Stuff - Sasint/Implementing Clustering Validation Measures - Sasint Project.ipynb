{
 "cells": [
  {
   "cell_type": "code",
   "execution_count": 1,
   "metadata": {},
   "outputs": [],
   "source": [
    "from math import *"
   ]
  },
  {
   "cell_type": "code",
   "execution_count": 48,
   "metadata": {},
   "outputs": [],
   "source": [
    "def jaccard_similarity(x,y):  \n",
    "    intersection_cardinality = len(set.intersection(*[set(x), set(y)]))\n",
    "    union_cardinality = len(set.union(*[set(x), set(y)]))\n",
    "    return intersection_cardinality/float(union_cardinality)"
   ]
  },
  {
   "cell_type": "code",
   "execution_count": 3,
   "metadata": {},
   "outputs": [],
   "source": [
    "from sklearn.metrics.cluster import normalized_mutual_info_score\n",
    "from sklearn.metrics import jaccard_similarity_score"
   ]
  },
  {
   "cell_type": "code",
   "execution_count": 4,
   "metadata": {},
   "outputs": [
    {
     "name": "stdout",
     "output_type": "stream",
     "text": [
      "0.16666666666666666\n",
      "0.0\n"
     ]
    }
   ],
   "source": [
    "print(jaccard_similarity([1,2,3,4],[7,3,5,3]))\n",
    "print(jaccard_similarity_score([1,2,3,4],[7,3,5,3]))"
   ]
  },
  {
   "cell_type": "code",
   "execution_count": 5,
   "metadata": {},
   "outputs": [],
   "source": [
    "cs1 = open(\"clustering_1.txt\").readlines()\n",
    "cs2 = open(\"clustering_2.txt\").readlines()\n",
    "cs3 = open(\"clustering_3.txt\").readlines()\n",
    "cs4 = open(\"clustering_4.txt\").readlines()\n",
    "cs5 = open(\"clustering_5.txt\").readlines()\n",
    "part = open(\"partitions.txt\").readlines()"
   ]
  },
  {
   "cell_type": "code",
   "execution_count": 6,
   "metadata": {},
   "outputs": [],
   "source": [
    "c11 = []\n",
    "c21 = []\n",
    "for i in range(0,len(cs1)):\n",
    "    cs1[i] = cs1[i].replace(\"\\n\",\"\")\n",
    "    l = cs1[i].split(\" \")\n",
    "    c21.append(int(l[1]))\n",
    "partc = []\n",
    "for i in range(0,len(part)):\n",
    "    part[i] = part[i].replace(\"\\n\",\"\")\n",
    "    l = part[i].split(\" \")\n",
    "    partc.append(int(l[1]))"
   ]
  },
  {
   "cell_type": "code",
   "execution_count": 7,
   "metadata": {
    "scrolled": true
   },
   "outputs": [
    {
     "data": {
      "text/plain": [
       "0.97666666666666668"
      ]
     },
     "execution_count": 7,
     "metadata": {},
     "output_type": "execute_result"
    }
   ],
   "source": [
    "cs1jc = jaccard_similarity_score(c21,partc)\n",
    "cs1jc"
   ]
  },
  {
   "cell_type": "code",
   "execution_count": 8,
   "metadata": {},
   "outputs": [],
   "source": [
    "c12 = []\n",
    "c22 = []\n",
    "for i in range(0,len(cs2)):\n",
    "    cs2[i] = cs2[i].replace(\"\\n\",\"\")\n",
    "    l2 = cs2[i].split(\" \")\n",
    "    c12.append(int(l2[0]))\n",
    "    c22.append(int(l2[1]))"
   ]
  },
  {
   "cell_type": "code",
   "execution_count": 9,
   "metadata": {},
   "outputs": [],
   "source": [
    "cs2jc = jaccard_similarity_score(c22,partc)"
   ]
  },
  {
   "cell_type": "code",
   "execution_count": 10,
   "metadata": {},
   "outputs": [],
   "source": [
    "c13 = []\n",
    "c23 = []\n",
    "for i in range(0,len(cs3)):\n",
    "    cs3[i] = cs3[i].replace(\"\\n\",\"\")\n",
    "    l3 = cs3[i].split(\" \")\n",
    "    c13.append(int(l3[0]))\n",
    "    c23.append(int(l3[1]))"
   ]
  },
  {
   "cell_type": "code",
   "execution_count": 11,
   "metadata": {},
   "outputs": [],
   "source": [
    "cs3jc = jaccard_similarity_score(c23,partc)"
   ]
  },
  {
   "cell_type": "code",
   "execution_count": 12,
   "metadata": {},
   "outputs": [],
   "source": [
    "c14 = []\n",
    "c24 = []\n",
    "for i in range(0,len(cs4)):\n",
    "    cs4[i] = cs4[i].replace(\"\\n\",\"\")\n",
    "    l4 = cs4[i].split(\" \")\n",
    "    c14.append(int(l4[0]))\n",
    "    c24.append(int(l4[1]))"
   ]
  },
  {
   "cell_type": "code",
   "execution_count": 32,
   "metadata": {},
   "outputs": [],
   "source": [
    "cs4jc = jaccard_similarity_score(c24,partc)"
   ]
  },
  {
   "cell_type": "code",
   "execution_count": 33,
   "metadata": {},
   "outputs": [],
   "source": [
    "c15 = []\n",
    "c25 = []\n",
    "for i in range(0,len(cs5)):\n",
    "    cs5[i] = cs5[i].replace(\"\\n\",\"\")\n",
    "    l5 = cs5[i].split(\" \")\n",
    "    c15.append(int(l5[0]))\n",
    "    c25.append(int(l5[1]))"
   ]
  },
  {
   "cell_type": "code",
   "execution_count": 34,
   "metadata": {},
   "outputs": [],
   "source": [
    "cs5jc = jaccard_similarity_score(c25,partc)\n",
    "# jaccard_similarity_score(y_true, y_pred)"
   ]
  },
  {
   "cell_type": "code",
   "execution_count": 35,
   "metadata": {
    "scrolled": true
   },
   "outputs": [
    {
     "data": {
      "text/plain": [
       "[0.97666666666666668,\n",
       " 0.89666666666666661,\n",
       " 0.78333333333333333,\n",
       " 0.91000000000000003,\n",
       " 0.66666666666666663]"
      ]
     },
     "execution_count": 35,
     "metadata": {},
     "output_type": "execute_result"
    }
   ],
   "source": [
    "[cs1jc,cs2jc,cs3jc,cs4jc,cs5jc]"
   ]
  },
  {
   "cell_type": "code",
   "execution_count": 36,
   "metadata": {},
   "outputs": [],
   "source": [
    "# normalized_mutual_info_score(c11,c12)"
   ]
  },
  {
   "cell_type": "code",
   "execution_count": 37,
   "metadata": {
    "scrolled": true
   },
   "outputs": [
    {
     "data": {
      "text/plain": [
       "[0.88962476658005873,\n",
       " 0.64563681134772166,\n",
       " 0.39154374638169198,\n",
       " 0.76778916069026093,\n",
       " 0.76117025972228858]"
      ]
     },
     "execution_count": 37,
     "metadata": {},
     "output_type": "execute_result"
    }
   ],
   "source": [
    "[normalized_mutual_info_score(partc,c21),normalized_mutual_info_score(partc,c22),normalized_mutual_info_score(partc,c23),normalized_mutual_info_score(partc,c24),normalized_mutual_info_score(partc,c25)]"
   ]
  },
  {
   "cell_type": "code",
   "execution_count": 51,
   "metadata": {},
   "outputs": [
    {
     "data": {
      "text/plain": [
       "0.25"
      ]
     },
     "execution_count": 51,
     "metadata": {},
     "output_type": "execute_result"
    }
   ],
   "source": [
    "jaccard_similarity([50,25,25],[25,40,35])"
   ]
  },
  {
   "cell_type": "code",
   "execution_count": 47,
   "metadata": {},
   "outputs": [],
   "source": [
    "from pandas import DataFramerame,Series"
   ]
  },
  {
   "cell_type": "code",
   "execution_count": 52,
   "metadata": {},
   "outputs": [
    {
     "data": {
      "text/plain": [
       "[0, 1, 2]"
      ]
     },
     "execution_count": 52,
     "metadata": {},
     "output_type": "execute_result"
    }
   ],
   "source": [
    "partCl = list(set(partc))\n"
   ]
  },
  {
   "cell_type": "code",
   "execution_count": 57,
   "metadata": {},
   "outputs": [],
   "source": [
    "dc = {0:[2,5,0,2],1:[0,6,0,0],2:[5,0,3,0]}"
   ]
  },
  {
   "cell_type": "code",
   "execution_count": 58,
   "metadata": {},
   "outputs": [
    {
     "data": {
      "text/html": [
       "<div>\n",
       "<style>\n",
       "    .dataframe thead tr:only-child th {\n",
       "        text-align: right;\n",
       "    }\n",
       "\n",
       "    .dataframe thead th {\n",
       "        text-align: left;\n",
       "    }\n",
       "\n",
       "    .dataframe tbody tr th {\n",
       "        vertical-align: top;\n",
       "    }\n",
       "</style>\n",
       "<table border=\"1\" class=\"dataframe\">\n",
       "  <thead>\n",
       "    <tr style=\"text-align: right;\">\n",
       "      <th></th>\n",
       "      <th>0</th>\n",
       "      <th>1</th>\n",
       "      <th>2</th>\n",
       "    </tr>\n",
       "  </thead>\n",
       "  <tbody>\n",
       "    <tr>\n",
       "      <th>0</th>\n",
       "      <td>2</td>\n",
       "      <td>0</td>\n",
       "      <td>5</td>\n",
       "    </tr>\n",
       "    <tr>\n",
       "      <th>1</th>\n",
       "      <td>5</td>\n",
       "      <td>6</td>\n",
       "      <td>0</td>\n",
       "    </tr>\n",
       "    <tr>\n",
       "      <th>2</th>\n",
       "      <td>0</td>\n",
       "      <td>0</td>\n",
       "      <td>3</td>\n",
       "    </tr>\n",
       "    <tr>\n",
       "      <th>3</th>\n",
       "      <td>2</td>\n",
       "      <td>0</td>\n",
       "      <td>0</td>\n",
       "    </tr>\n",
       "  </tbody>\n",
       "</table>\n",
       "</div>"
      ],
      "text/plain": [
       "   0  1  2\n",
       "0  2  0  5\n",
       "1  5  6  0\n",
       "2  0  0  3\n",
       "3  2  0  0"
      ]
     },
     "execution_count": 58,
     "metadata": {},
     "output_type": "execute_result"
    }
   ],
   "source": [
    "df = DataFrame(dc)\n",
    "df"
   ]
  },
  {
   "cell_type": "code",
   "execution_count": 70,
   "metadata": {},
   "outputs": [
    {
     "data": {
      "text/plain": [
       "[0, 0, 3]"
      ]
     },
     "execution_count": 70,
     "metadata": {},
     "output_type": "execute_result"
    }
   ],
   "source": [
    "list(df.iloc[2])"
   ]
  },
  {
   "cell_type": "code",
   "execution_count": 71,
   "metadata": {},
   "outputs": [
    {
     "data": {
      "text/plain": [
       "[0, 6, 0, 0]"
      ]
     },
     "execution_count": 71,
     "metadata": {},
     "output_type": "execute_result"
    }
   ],
   "source": [
    "list(df[1])"
   ]
  },
  {
   "cell_type": "code",
   "execution_count": null,
   "metadata": {},
   "outputs": [],
   "source": []
  }
 ],
 "metadata": {
  "kernelspec": {
   "display_name": "Python 3",
   "language": "python",
   "name": "python3"
  }
 },
 "nbformat": 4,
 "nbformat_minor": 2
}
