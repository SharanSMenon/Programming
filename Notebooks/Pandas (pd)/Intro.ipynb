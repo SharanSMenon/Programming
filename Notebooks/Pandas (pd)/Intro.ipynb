{
 "cells": [
  {
   "cell_type": "code",
   "execution_count": 3,
   "metadata": {},
   "outputs": [],
   "source": [
    "# Dataframes\n",
    "import numpy as np\n",
    "import pandas as pd\n",
    "from pandas import Series,DataFrame"
   ]
  },
  {
   "cell_type": "code",
   "execution_count": 4,
   "metadata": {},
   "outputs": [
    {
     "data": {
      "text/plain": [
       "True"
      ]
     },
     "execution_count": 4,
     "metadata": {},
     "output_type": "execute_result"
    }
   ],
   "source": [
    "import webbrowser\n",
    "website='http://en.wikipedia.org/wiki/NFL_win-loss_records'\n",
    "webbrowser.open(website)"
   ]
  },
  {
   "cell_type": "code",
   "execution_count": 18,
   "metadata": {},
   "outputs": [],
   "source": [
    "nfl_cl = pd.read_clipboard()"
   ]
  },
  {
   "cell_type": "code",
   "execution_count": 19,
   "metadata": {},
   "outputs": [
    {
     "data": {
      "text/html": [
       "<div>\n",
       "<style>\n",
       "    .dataframe thead tr:only-child th {\n",
       "        text-align: right;\n",
       "    }\n",
       "\n",
       "    .dataframe thead th {\n",
       "        text-align: left;\n",
       "    }\n",
       "\n",
       "    .dataframe tbody tr th {\n",
       "        vertical-align: top;\n",
       "    }\n",
       "</style>\n",
       "<table border=\"1\" class=\"dataframe\">\n",
       "  <thead>\n",
       "    <tr style=\"text-align: right;\">\n",
       "      <th></th>\n",
       "      <th>Rank</th>\n",
       "      <th>Team</th>\n",
       "      <th>Won</th>\n",
       "      <th>Lost</th>\n",
       "      <th>Tied</th>\n",
       "      <th>Pct.</th>\n",
       "      <th>First NFL Season</th>\n",
       "      <th>Total Games</th>\n",
       "      <th>Division</th>\n",
       "    </tr>\n",
       "  </thead>\n",
       "  <tbody>\n",
       "    <tr>\n",
       "      <th>0</th>\n",
       "      <td>1</td>\n",
       "      <td>Dallas Cowboys</td>\n",
       "      <td>502</td>\n",
       "      <td>374</td>\n",
       "      <td>6</td>\n",
       "      <td>0.573</td>\n",
       "      <td>1960</td>\n",
       "      <td>882</td>\n",
       "      <td>NFC East</td>\n",
       "    </tr>\n",
       "    <tr>\n",
       "      <th>1</th>\n",
       "      <td>2</td>\n",
       "      <td>Green Bay Packers</td>\n",
       "      <td>737</td>\n",
       "      <td>562</td>\n",
       "      <td>37</td>\n",
       "      <td>0.565</td>\n",
       "      <td>1921</td>\n",
       "      <td>1,336</td>\n",
       "      <td>NFC North</td>\n",
       "    </tr>\n",
       "    <tr>\n",
       "      <th>2</th>\n",
       "      <td>3</td>\n",
       "      <td>Chicago Bears</td>\n",
       "      <td>749</td>\n",
       "      <td>579</td>\n",
       "      <td>42</td>\n",
       "      <td>0.562</td>\n",
       "      <td>1920</td>\n",
       "      <td>1,370</td>\n",
       "      <td>NFC North</td>\n",
       "    </tr>\n",
       "    <tr>\n",
       "      <th>3</th>\n",
       "      <td>4</td>\n",
       "      <td>Miami Dolphins</td>\n",
       "      <td>445</td>\n",
       "      <td>351</td>\n",
       "      <td>4</td>\n",
       "      <td>0.559</td>\n",
       "      <td>1966</td>\n",
       "      <td>800</td>\n",
       "      <td>AFC East</td>\n",
       "    </tr>\n",
       "    <tr>\n",
       "      <th>4</th>\n",
       "      <td>5</td>\n",
       "      <td>New England Patriots[b]</td>\n",
       "      <td>489</td>\n",
       "      <td>386</td>\n",
       "      <td>9</td>\n",
       "      <td>0.558</td>\n",
       "      <td>1960</td>\n",
       "      <td>884</td>\n",
       "      <td>AFC East</td>\n",
       "    </tr>\n",
       "  </tbody>\n",
       "</table>\n",
       "</div>"
      ],
      "text/plain": [
       "   Rank                     Team  Won  Lost  Tied   Pct.  First NFL Season  \\\n",
       "0     1           Dallas Cowboys  502   374     6  0.573              1960   \n",
       "1     2        Green Bay Packers  737   562    37  0.565              1921   \n",
       "2     3            Chicago Bears  749   579    42  0.562              1920   \n",
       "3     4           Miami Dolphins  445   351     4  0.559              1966   \n",
       "4     5  New England Patriots[b]  489   386     9  0.558              1960   \n",
       "\n",
       "  Total Games   Division  \n",
       "0         882   NFC East  \n",
       "1       1,336  NFC North  \n",
       "2       1,370  NFC North  \n",
       "3         800   AFC East  \n",
       "4         884   AFC East  "
      ]
     },
     "execution_count": 19,
     "metadata": {},
     "output_type": "execute_result"
    }
   ],
   "source": [
    "nfl_cl"
   ]
  },
  {
   "cell_type": "code",
   "execution_count": 20,
   "metadata": {},
   "outputs": [
    {
     "data": {
      "text/plain": [
       "Index(['Rank', 'Team', 'Won', 'Lost', 'Tied', 'Pct.', 'First NFL Season',\n",
       "       'Total Games', 'Division'],\n",
       "      dtype='object')"
      ]
     },
     "execution_count": 20,
     "metadata": {},
     "output_type": "execute_result"
    }
   ],
   "source": [
    "nfl_cl.columns"
   ]
  },
  {
   "cell_type": "code",
   "execution_count": 25,
   "metadata": {},
   "outputs": [
    {
     "data": {
      "text/plain": [
       "0    1960\n",
       "1    1921\n",
       "2    1920\n",
       "3    1966\n",
       "4    1960\n",
       "Name: First NFL Season, dtype: int64"
      ]
     },
     "execution_count": 25,
     "metadata": {},
     "output_type": "execute_result"
    }
   ],
   "source": [
    "nfl_cl['First NFL Season']"
   ]
  },
  {
   "cell_type": "code",
   "execution_count": 26,
   "metadata": {},
   "outputs": [
    {
     "data": {
      "text/html": [
       "<div>\n",
       "<style>\n",
       "    .dataframe thead tr:only-child th {\n",
       "        text-align: right;\n",
       "    }\n",
       "\n",
       "    .dataframe thead th {\n",
       "        text-align: left;\n",
       "    }\n",
       "\n",
       "    .dataframe tbody tr th {\n",
       "        vertical-align: top;\n",
       "    }\n",
       "</style>\n",
       "<table border=\"1\" class=\"dataframe\">\n",
       "  <thead>\n",
       "    <tr style=\"text-align: right;\">\n",
       "      <th></th>\n",
       "      <th>Rank</th>\n",
       "      <th>Team</th>\n",
       "      <th>Total Games</th>\n",
       "    </tr>\n",
       "  </thead>\n",
       "  <tbody>\n",
       "    <tr>\n",
       "      <th>0</th>\n",
       "      <td>1</td>\n",
       "      <td>Dallas Cowboys</td>\n",
       "      <td>882</td>\n",
       "    </tr>\n",
       "    <tr>\n",
       "      <th>1</th>\n",
       "      <td>2</td>\n",
       "      <td>Green Bay Packers</td>\n",
       "      <td>1,336</td>\n",
       "    </tr>\n",
       "    <tr>\n",
       "      <th>2</th>\n",
       "      <td>3</td>\n",
       "      <td>Chicago Bears</td>\n",
       "      <td>1,370</td>\n",
       "    </tr>\n",
       "    <tr>\n",
       "      <th>3</th>\n",
       "      <td>4</td>\n",
       "      <td>Miami Dolphins</td>\n",
       "      <td>800</td>\n",
       "    </tr>\n",
       "    <tr>\n",
       "      <th>4</th>\n",
       "      <td>5</td>\n",
       "      <td>New England Patriots[b]</td>\n",
       "      <td>884</td>\n",
       "    </tr>\n",
       "  </tbody>\n",
       "</table>\n",
       "</div>"
      ],
      "text/plain": [
       "   Rank                     Team Total Games\n",
       "0     1           Dallas Cowboys         882\n",
       "1     2        Green Bay Packers       1,336\n",
       "2     3            Chicago Bears       1,370\n",
       "3     4           Miami Dolphins         800\n",
       "4     5  New England Patriots[b]         884"
      ]
     },
     "execution_count": 26,
     "metadata": {},
     "output_type": "execute_result"
    }
   ],
   "source": [
    "DataFrame(nfl_cl,columns=['Rank','Team','Total Games'])"
   ]
  },
  {
   "cell_type": "code",
   "execution_count": 32,
   "metadata": {},
   "outputs": [
    {
     "data": {
      "text/html": [
       "<div>\n",
       "<style>\n",
       "    .dataframe thead tr:only-child th {\n",
       "        text-align: right;\n",
       "    }\n",
       "\n",
       "    .dataframe thead th {\n",
       "        text-align: left;\n",
       "    }\n",
       "\n",
       "    .dataframe tbody tr th {\n",
       "        vertical-align: top;\n",
       "    }\n",
       "</style>\n",
       "<table border=\"1\" class=\"dataframe\">\n",
       "  <thead>\n",
       "    <tr style=\"text-align: right;\">\n",
       "      <th></th>\n",
       "      <th>Rank</th>\n",
       "      <th>Team</th>\n",
       "      <th>Won</th>\n",
       "      <th>Lost</th>\n",
       "      <th>Tied</th>\n",
       "      <th>Pct.</th>\n",
       "      <th>First NFL Season</th>\n",
       "      <th>Total Games</th>\n",
       "      <th>Division</th>\n",
       "    </tr>\n",
       "  </thead>\n",
       "  <tbody>\n",
       "    <tr>\n",
       "      <th>0</th>\n",
       "      <td>1</td>\n",
       "      <td>Dallas Cowboys</td>\n",
       "      <td>502</td>\n",
       "      <td>374</td>\n",
       "      <td>6</td>\n",
       "      <td>0.573</td>\n",
       "      <td>1960</td>\n",
       "      <td>882</td>\n",
       "      <td>NFC East</td>\n",
       "    </tr>\n",
       "    <tr>\n",
       "      <th>1</th>\n",
       "      <td>2</td>\n",
       "      <td>Green Bay Packers</td>\n",
       "      <td>737</td>\n",
       "      <td>562</td>\n",
       "      <td>37</td>\n",
       "      <td>0.565</td>\n",
       "      <td>1921</td>\n",
       "      <td>1,336</td>\n",
       "      <td>NFC North</td>\n",
       "    </tr>\n",
       "    <tr>\n",
       "      <th>2</th>\n",
       "      <td>3</td>\n",
       "      <td>Chicago Bears</td>\n",
       "      <td>749</td>\n",
       "      <td>579</td>\n",
       "      <td>42</td>\n",
       "      <td>0.562</td>\n",
       "      <td>1920</td>\n",
       "      <td>1,370</td>\n",
       "      <td>NFC North</td>\n",
       "    </tr>\n",
       "    <tr>\n",
       "      <th>3</th>\n",
       "      <td>4</td>\n",
       "      <td>Miami Dolphins</td>\n",
       "      <td>445</td>\n",
       "      <td>351</td>\n",
       "      <td>4</td>\n",
       "      <td>0.559</td>\n",
       "      <td>1966</td>\n",
       "      <td>800</td>\n",
       "      <td>AFC East</td>\n",
       "    </tr>\n",
       "    <tr>\n",
       "      <th>4</th>\n",
       "      <td>5</td>\n",
       "      <td>New England Patriots[b]</td>\n",
       "      <td>489</td>\n",
       "      <td>386</td>\n",
       "      <td>9</td>\n",
       "      <td>0.558</td>\n",
       "      <td>1960</td>\n",
       "      <td>884</td>\n",
       "      <td>AFC East</td>\n",
       "    </tr>\n",
       "  </tbody>\n",
       "</table>\n",
       "</div>"
      ],
      "text/plain": [
       "   Rank                     Team  Won  Lost  Tied   Pct.  First NFL Season  \\\n",
       "0     1           Dallas Cowboys  502   374     6  0.573              1960   \n",
       "1     2        Green Bay Packers  737   562    37  0.565              1921   \n",
       "2     3            Chicago Bears  749   579    42  0.562              1920   \n",
       "3     4           Miami Dolphins  445   351     4  0.559              1966   \n",
       "4     5  New England Patriots[b]  489   386     9  0.558              1960   \n",
       "\n",
       "  Total Games   Division  \n",
       "0         882   NFC East  \n",
       "1       1,336  NFC North  \n",
       "2       1,370  NFC North  \n",
       "3         800   AFC East  \n",
       "4         884   AFC East  "
      ]
     },
     "execution_count": 32,
     "metadata": {},
     "output_type": "execute_result"
    }
   ],
   "source": [
    "# DataFrame(nfl_cl,)\n",
    "nfl_cl.head()"
   ]
  },
  {
   "cell_type": "code",
   "execution_count": 34,
   "metadata": {},
   "outputs": [
    {
     "data": {
      "text/plain": [
       "Rank                             4\n",
       "Team                Miami Dolphins\n",
       "Won                            445\n",
       "Lost                           351\n",
       "Tied                             4\n",
       "Pct.                         0.559\n",
       "First NFL Season              1966\n",
       "Total Games                    800\n",
       "Division                  AFC East\n",
       "Name: 3, dtype: object"
      ]
     },
     "execution_count": 34,
     "metadata": {},
     "output_type": "execute_result"
    }
   ],
   "source": [
    "nfl_cl.iloc[3]"
   ]
  },
  {
   "cell_type": "code",
   "execution_count": 37,
   "metadata": {},
   "outputs": [],
   "source": [
    "nfl_cl['Stadium'] = np.arange(5)"
   ]
  },
  {
   "cell_type": "code",
   "execution_count": 38,
   "metadata": {},
   "outputs": [
    {
     "data": {
      "text/html": [
       "<div>\n",
       "<style>\n",
       "    .dataframe thead tr:only-child th {\n",
       "        text-align: right;\n",
       "    }\n",
       "\n",
       "    .dataframe thead th {\n",
       "        text-align: left;\n",
       "    }\n",
       "\n",
       "    .dataframe tbody tr th {\n",
       "        vertical-align: top;\n",
       "    }\n",
       "</style>\n",
       "<table border=\"1\" class=\"dataframe\">\n",
       "  <thead>\n",
       "    <tr style=\"text-align: right;\">\n",
       "      <th></th>\n",
       "      <th>Rank</th>\n",
       "      <th>Team</th>\n",
       "      <th>Won</th>\n",
       "      <th>Lost</th>\n",
       "      <th>Tied</th>\n",
       "      <th>Pct.</th>\n",
       "      <th>First NFL Season</th>\n",
       "      <th>Total Games</th>\n",
       "      <th>Division</th>\n",
       "      <th>Stadium</th>\n",
       "    </tr>\n",
       "  </thead>\n",
       "  <tbody>\n",
       "    <tr>\n",
       "      <th>0</th>\n",
       "      <td>1</td>\n",
       "      <td>Dallas Cowboys</td>\n",
       "      <td>502</td>\n",
       "      <td>374</td>\n",
       "      <td>6</td>\n",
       "      <td>0.573</td>\n",
       "      <td>1960</td>\n",
       "      <td>882</td>\n",
       "      <td>NFC East</td>\n",
       "      <td>0</td>\n",
       "    </tr>\n",
       "    <tr>\n",
       "      <th>1</th>\n",
       "      <td>2</td>\n",
       "      <td>Green Bay Packers</td>\n",
       "      <td>737</td>\n",
       "      <td>562</td>\n",
       "      <td>37</td>\n",
       "      <td>0.565</td>\n",
       "      <td>1921</td>\n",
       "      <td>1,336</td>\n",
       "      <td>NFC North</td>\n",
       "      <td>1</td>\n",
       "    </tr>\n",
       "    <tr>\n",
       "      <th>2</th>\n",
       "      <td>3</td>\n",
       "      <td>Chicago Bears</td>\n",
       "      <td>749</td>\n",
       "      <td>579</td>\n",
       "      <td>42</td>\n",
       "      <td>0.562</td>\n",
       "      <td>1920</td>\n",
       "      <td>1,370</td>\n",
       "      <td>NFC North</td>\n",
       "      <td>2</td>\n",
       "    </tr>\n",
       "    <tr>\n",
       "      <th>3</th>\n",
       "      <td>4</td>\n",
       "      <td>Miami Dolphins</td>\n",
       "      <td>445</td>\n",
       "      <td>351</td>\n",
       "      <td>4</td>\n",
       "      <td>0.559</td>\n",
       "      <td>1966</td>\n",
       "      <td>800</td>\n",
       "      <td>AFC East</td>\n",
       "      <td>3</td>\n",
       "    </tr>\n",
       "    <tr>\n",
       "      <th>4</th>\n",
       "      <td>5</td>\n",
       "      <td>New England Patriots[b]</td>\n",
       "      <td>489</td>\n",
       "      <td>386</td>\n",
       "      <td>9</td>\n",
       "      <td>0.558</td>\n",
       "      <td>1960</td>\n",
       "      <td>884</td>\n",
       "      <td>AFC East</td>\n",
       "      <td>4</td>\n",
       "    </tr>\n",
       "  </tbody>\n",
       "</table>\n",
       "</div>"
      ],
      "text/plain": [
       "   Rank                     Team  Won  Lost  Tied   Pct.  First NFL Season  \\\n",
       "0     1           Dallas Cowboys  502   374     6  0.573              1960   \n",
       "1     2        Green Bay Packers  737   562    37  0.565              1921   \n",
       "2     3            Chicago Bears  749   579    42  0.562              1920   \n",
       "3     4           Miami Dolphins  445   351     4  0.559              1966   \n",
       "4     5  New England Patriots[b]  489   386     9  0.558              1960   \n",
       "\n",
       "  Total Games   Division  Stadium  \n",
       "0         882   NFC East        0  \n",
       "1       1,336  NFC North        1  \n",
       "2       1,370  NFC North        2  \n",
       "3         800   AFC East        3  \n",
       "4         884   AFC East        4  "
      ]
     },
     "execution_count": 38,
     "metadata": {},
     "output_type": "execute_result"
    }
   ],
   "source": [
    "nfl_cl"
   ]
  },
  {
   "cell_type": "code",
   "execution_count": 45,
   "metadata": {},
   "outputs": [],
   "source": [
    "stadiums = Series([\"Levi's stadium\",\"MT&T Stadium\"],index=[4,0])"
   ]
  },
  {
   "cell_type": "code",
   "execution_count": 46,
   "metadata": {},
   "outputs": [
    {
     "data": {
      "text/plain": [
       "4    Levi's stadium\n",
       "0      MT&T Stadium\n",
       "dtype: object"
      ]
     },
     "execution_count": 46,
     "metadata": {},
     "output_type": "execute_result"
    }
   ],
   "source": [
    "stadiums"
   ]
  },
  {
   "cell_type": "code",
   "execution_count": 47,
   "metadata": {},
   "outputs": [],
   "source": [
    "nfl_cl['Stadium'] = stadiums"
   ]
  },
  {
   "cell_type": "code",
   "execution_count": 48,
   "metadata": {},
   "outputs": [
    {
     "data": {
      "text/html": [
       "<div>\n",
       "<style>\n",
       "    .dataframe thead tr:only-child th {\n",
       "        text-align: right;\n",
       "    }\n",
       "\n",
       "    .dataframe thead th {\n",
       "        text-align: left;\n",
       "    }\n",
       "\n",
       "    .dataframe tbody tr th {\n",
       "        vertical-align: top;\n",
       "    }\n",
       "</style>\n",
       "<table border=\"1\" class=\"dataframe\">\n",
       "  <thead>\n",
       "    <tr style=\"text-align: right;\">\n",
       "      <th></th>\n",
       "      <th>Rank</th>\n",
       "      <th>Team</th>\n",
       "      <th>Won</th>\n",
       "      <th>Lost</th>\n",
       "      <th>Tied</th>\n",
       "      <th>Pct.</th>\n",
       "      <th>First NFL Season</th>\n",
       "      <th>Total Games</th>\n",
       "      <th>Division</th>\n",
       "      <th>Stadium</th>\n",
       "    </tr>\n",
       "  </thead>\n",
       "  <tbody>\n",
       "    <tr>\n",
       "      <th>0</th>\n",
       "      <td>1</td>\n",
       "      <td>Dallas Cowboys</td>\n",
       "      <td>502</td>\n",
       "      <td>374</td>\n",
       "      <td>6</td>\n",
       "      <td>0.573</td>\n",
       "      <td>1960</td>\n",
       "      <td>882</td>\n",
       "      <td>NFC East</td>\n",
       "      <td>MT&amp;T Stadium</td>\n",
       "    </tr>\n",
       "    <tr>\n",
       "      <th>1</th>\n",
       "      <td>2</td>\n",
       "      <td>Green Bay Packers</td>\n",
       "      <td>737</td>\n",
       "      <td>562</td>\n",
       "      <td>37</td>\n",
       "      <td>0.565</td>\n",
       "      <td>1921</td>\n",
       "      <td>1,336</td>\n",
       "      <td>NFC North</td>\n",
       "      <td>NaN</td>\n",
       "    </tr>\n",
       "    <tr>\n",
       "      <th>2</th>\n",
       "      <td>3</td>\n",
       "      <td>Chicago Bears</td>\n",
       "      <td>749</td>\n",
       "      <td>579</td>\n",
       "      <td>42</td>\n",
       "      <td>0.562</td>\n",
       "      <td>1920</td>\n",
       "      <td>1,370</td>\n",
       "      <td>NFC North</td>\n",
       "      <td>NaN</td>\n",
       "    </tr>\n",
       "    <tr>\n",
       "      <th>3</th>\n",
       "      <td>4</td>\n",
       "      <td>Miami Dolphins</td>\n",
       "      <td>445</td>\n",
       "      <td>351</td>\n",
       "      <td>4</td>\n",
       "      <td>0.559</td>\n",
       "      <td>1966</td>\n",
       "      <td>800</td>\n",
       "      <td>AFC East</td>\n",
       "      <td>NaN</td>\n",
       "    </tr>\n",
       "    <tr>\n",
       "      <th>4</th>\n",
       "      <td>5</td>\n",
       "      <td>New England Patriots[b]</td>\n",
       "      <td>489</td>\n",
       "      <td>386</td>\n",
       "      <td>9</td>\n",
       "      <td>0.558</td>\n",
       "      <td>1960</td>\n",
       "      <td>884</td>\n",
       "      <td>AFC East</td>\n",
       "      <td>Levi's stadium</td>\n",
       "    </tr>\n",
       "  </tbody>\n",
       "</table>\n",
       "</div>"
      ],
      "text/plain": [
       "   Rank                     Team  Won  Lost  Tied   Pct.  First NFL Season  \\\n",
       "0     1           Dallas Cowboys  502   374     6  0.573              1960   \n",
       "1     2        Green Bay Packers  737   562    37  0.565              1921   \n",
       "2     3            Chicago Bears  749   579    42  0.562              1920   \n",
       "3     4           Miami Dolphins  445   351     4  0.559              1966   \n",
       "4     5  New England Patriots[b]  489   386     9  0.558              1960   \n",
       "\n",
       "  Total Games   Division         Stadium  \n",
       "0         882   NFC East    MT&T Stadium  \n",
       "1       1,336  NFC North             NaN  \n",
       "2       1,370  NFC North             NaN  \n",
       "3         800   AFC East             NaN  \n",
       "4         884   AFC East  Levi's stadium  "
      ]
     },
     "execution_count": 48,
     "metadata": {},
     "output_type": "execute_result"
    }
   ],
   "source": [
    "nfl_cl"
   ]
  },
  {
   "cell_type": "code",
   "execution_count": 49,
   "metadata": {},
   "outputs": [],
   "source": [
    "del nfl_cl['Stadium']"
   ]
  },
  {
   "cell_type": "code",
   "execution_count": 50,
   "metadata": {},
   "outputs": [
    {
     "data": {
      "text/html": [
       "<div>\n",
       "<style>\n",
       "    .dataframe thead tr:only-child th {\n",
       "        text-align: right;\n",
       "    }\n",
       "\n",
       "    .dataframe thead th {\n",
       "        text-align: left;\n",
       "    }\n",
       "\n",
       "    .dataframe tbody tr th {\n",
       "        vertical-align: top;\n",
       "    }\n",
       "</style>\n",
       "<table border=\"1\" class=\"dataframe\">\n",
       "  <thead>\n",
       "    <tr style=\"text-align: right;\">\n",
       "      <th></th>\n",
       "      <th>Rank</th>\n",
       "      <th>Team</th>\n",
       "      <th>Won</th>\n",
       "      <th>Lost</th>\n",
       "      <th>Tied</th>\n",
       "      <th>Pct.</th>\n",
       "      <th>First NFL Season</th>\n",
       "      <th>Total Games</th>\n",
       "      <th>Division</th>\n",
       "    </tr>\n",
       "  </thead>\n",
       "  <tbody>\n",
       "    <tr>\n",
       "      <th>0</th>\n",
       "      <td>1</td>\n",
       "      <td>Dallas Cowboys</td>\n",
       "      <td>502</td>\n",
       "      <td>374</td>\n",
       "      <td>6</td>\n",
       "      <td>0.573</td>\n",
       "      <td>1960</td>\n",
       "      <td>882</td>\n",
       "      <td>NFC East</td>\n",
       "    </tr>\n",
       "    <tr>\n",
       "      <th>1</th>\n",
       "      <td>2</td>\n",
       "      <td>Green Bay Packers</td>\n",
       "      <td>737</td>\n",
       "      <td>562</td>\n",
       "      <td>37</td>\n",
       "      <td>0.565</td>\n",
       "      <td>1921</td>\n",
       "      <td>1,336</td>\n",
       "      <td>NFC North</td>\n",
       "    </tr>\n",
       "    <tr>\n",
       "      <th>2</th>\n",
       "      <td>3</td>\n",
       "      <td>Chicago Bears</td>\n",
       "      <td>749</td>\n",
       "      <td>579</td>\n",
       "      <td>42</td>\n",
       "      <td>0.562</td>\n",
       "      <td>1920</td>\n",
       "      <td>1,370</td>\n",
       "      <td>NFC North</td>\n",
       "    </tr>\n",
       "    <tr>\n",
       "      <th>3</th>\n",
       "      <td>4</td>\n",
       "      <td>Miami Dolphins</td>\n",
       "      <td>445</td>\n",
       "      <td>351</td>\n",
       "      <td>4</td>\n",
       "      <td>0.559</td>\n",
       "      <td>1966</td>\n",
       "      <td>800</td>\n",
       "      <td>AFC East</td>\n",
       "    </tr>\n",
       "    <tr>\n",
       "      <th>4</th>\n",
       "      <td>5</td>\n",
       "      <td>New England Patriots[b]</td>\n",
       "      <td>489</td>\n",
       "      <td>386</td>\n",
       "      <td>9</td>\n",
       "      <td>0.558</td>\n",
       "      <td>1960</td>\n",
       "      <td>884</td>\n",
       "      <td>AFC East</td>\n",
       "    </tr>\n",
       "  </tbody>\n",
       "</table>\n",
       "</div>"
      ],
      "text/plain": [
       "   Rank                     Team  Won  Lost  Tied   Pct.  First NFL Season  \\\n",
       "0     1           Dallas Cowboys  502   374     6  0.573              1960   \n",
       "1     2        Green Bay Packers  737   562    37  0.565              1921   \n",
       "2     3            Chicago Bears  749   579    42  0.562              1920   \n",
       "3     4           Miami Dolphins  445   351     4  0.559              1966   \n",
       "4     5  New England Patriots[b]  489   386     9  0.558              1960   \n",
       "\n",
       "  Total Games   Division  \n",
       "0         882   NFC East  \n",
       "1       1,336  NFC North  \n",
       "2       1,370  NFC North  \n",
       "3         800   AFC East  \n",
       "4         884   AFC East  "
      ]
     },
     "execution_count": 50,
     "metadata": {},
     "output_type": "execute_result"
    }
   ],
   "source": [
    "nfl_cl"
   ]
  },
  {
   "cell_type": "code",
   "execution_count": 51,
   "metadata": {},
   "outputs": [],
   "source": [
    "data = {'City':['NYC','LA','SF'],'Population (in millions)':[8.3,3.8,6.3]}"
   ]
  },
  {
   "cell_type": "code",
   "execution_count": 52,
   "metadata": {},
   "outputs": [],
   "source": [
    "city_df = DataFrame(data)"
   ]
  },
  {
   "cell_type": "code",
   "execution_count": 53,
   "metadata": {},
   "outputs": [
    {
     "data": {
      "text/html": [
       "<div>\n",
       "<style>\n",
       "    .dataframe thead tr:only-child th {\n",
       "        text-align: right;\n",
       "    }\n",
       "\n",
       "    .dataframe thead th {\n",
       "        text-align: left;\n",
       "    }\n",
       "\n",
       "    .dataframe tbody tr th {\n",
       "        vertical-align: top;\n",
       "    }\n",
       "</style>\n",
       "<table border=\"1\" class=\"dataframe\">\n",
       "  <thead>\n",
       "    <tr style=\"text-align: right;\">\n",
       "      <th></th>\n",
       "      <th>City</th>\n",
       "      <th>Population (in millions)</th>\n",
       "    </tr>\n",
       "  </thead>\n",
       "  <tbody>\n",
       "    <tr>\n",
       "      <th>0</th>\n",
       "      <td>NYC</td>\n",
       "      <td>8.3</td>\n",
       "    </tr>\n",
       "    <tr>\n",
       "      <th>1</th>\n",
       "      <td>LA</td>\n",
       "      <td>3.8</td>\n",
       "    </tr>\n",
       "    <tr>\n",
       "      <th>2</th>\n",
       "      <td>SF</td>\n",
       "      <td>6.3</td>\n",
       "    </tr>\n",
       "  </tbody>\n",
       "</table>\n",
       "</div>"
      ],
      "text/plain": [
       "  City  Population (in millions)\n",
       "0  NYC                       8.3\n",
       "1   LA                       3.8\n",
       "2   SF                       6.3"
      ]
     },
     "execution_count": 53,
     "metadata": {},
     "output_type": "execute_result"
    }
   ],
   "source": [
    "city_df"
   ]
  },
  {
   "cell_type": "code",
   "execution_count": null,
   "metadata": {},
   "outputs": [],
   "source": []
  }
 ],
 "metadata": {
  "kernelspec": {
   "display_name": "Python 3",
   "language": "python",
   "name": "python3"
  },
  "language_info": {
   "codemirror_mode": {
    "name": "ipython",
    "version": 3
   },
   "file_extension": ".py",
   "mimetype": "text/x-python",
   "name": "python",
   "nbconvert_exporter": "python",
   "pygments_lexer": "ipython3",
   "version": "3.6.3"
  }
 },
 "nbformat": 4,
 "nbformat_minor": 2
}
