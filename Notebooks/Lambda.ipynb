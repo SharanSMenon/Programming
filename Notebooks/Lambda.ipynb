{
 "cells": [
  {
   "cell_type": "code",
   "execution_count": 113,
   "metadata": {
    "collapsed": true
   },
   "outputs": [],
   "source": [
    "from functools import reduce\n",
    "square = lambda x: x**2"
   ]
  },
  {
   "cell_type": "code",
   "execution_count": 114,
   "metadata": {
    "scrolled": true
   },
   "outputs": [
    {
     "data": {
      "text/plain": [
       "1849"
      ]
     },
     "execution_count": 114,
     "metadata": {},
     "output_type": "execute_result"
    }
   ],
   "source": [
    "square(43)"
   ]
  },
  {
   "cell_type": "markdown",
   "metadata": {
    "collapsed": true
   },
   "source": [
    "## Errors and Exception handling\n",
    "Dealing with errors"
   ]
  },
  {
   "cell_type": "code",
   "execution_count": 115,
   "metadata": {},
   "outputs": [
    {
     "name": "stdout",
     "output_type": "stream",
     "text": [
      "Superman\n",
      "Oh oh, There is an error\n",
      "Error: name 'cur' is not defined\n",
      "Batman\n",
      "Spiderman\n"
     ]
    }
   ],
   "source": [
    "print(\"Superman\")\n",
    "try:\n",
    "    print(cur)\n",
    "except Exception as e:\n",
    "    print(\"Oh oh, There is an error\")\n",
    "    print(\"Error: \"+ str(e))\n",
    "finally:\n",
    "    print(\"Batman\")\n",
    "print(\"Spiderman\")"
   ]
  },
  {
   "cell_type": "code",
   "execution_count": 116,
   "metadata": {
    "collapsed": true
   },
   "outputs": [],
   "source": [
    "class Person:\n",
    "    def __init__(self,name,age):\n",
    "        self.name = name\n",
    "        self.age = age\n",
    "    def __str__(self):\n",
    "        return self.name+\" is \"+str(self.age)"
   ]
  },
  {
   "cell_type": "code",
   "execution_count": 117,
   "metadata": {},
   "outputs": [
    {
     "name": "stdout",
     "output_type": "stream",
     "text": [
      "fd\n"
     ]
    }
   ],
   "source": [
    "print(\"fd\")"
   ]
  },
  {
   "cell_type": "code",
   "execution_count": 118,
   "metadata": {
    "collapsed": true
   },
   "outputs": [],
   "source": [
    "bob = Person(\"Bob\",74)"
   ]
  },
  {
   "cell_type": "code",
   "execution_count": 119,
   "metadata": {},
   "outputs": [
    {
     "name": "stdout",
     "output_type": "stream",
     "text": [
      "Bob is 74\n"
     ]
    }
   ],
   "source": [
    "print(bob)"
   ]
  },
  {
   "cell_type": "code",
   "execution_count": 120,
   "metadata": {},
   "outputs": [
    {
     "name": "stdout",
     "output_type": "stream",
     "text": [
      "name 'x' is not defined\n",
      "36\n"
     ]
    }
   ],
   "source": [
    "list1 = [1,2,3,4,5,6,7,8,9,10]\n",
    "try:\n",
    "    map(square(x),list1)\n",
    "except Exception as e:\n",
    "    print(e)\n",
    "    print(square(6))"
   ]
  },
  {
   "cell_type": "code",
   "execution_count": 121,
   "metadata": {
    "collapsed": true
   },
   "outputs": [],
   "source": [
    "fahrenheit = lambda x: (9.0/5)*x +32"
   ]
  },
  {
   "cell_type": "code",
   "execution_count": 122,
   "metadata": {},
   "outputs": [
    {
     "data": {
      "text/plain": [
       "89.6"
      ]
     },
     "execution_count": 122,
     "metadata": {},
     "output_type": "execute_result"
    }
   ],
   "source": [
    "fahrenheit(32)"
   ]
  },
  {
   "cell_type": "code",
   "execution_count": 123,
   "metadata": {},
   "outputs": [
    {
     "data": {
      "text/plain": [
       "32.0"
      ]
     },
     "execution_count": 123,
     "metadata": {},
     "output_type": "execute_result"
    }
   ],
   "source": [
    "fahrenheit(0)"
   ]
  },
  {
   "cell_type": "code",
   "execution_count": 124,
   "metadata": {},
   "outputs": [
    {
     "data": {
      "text/plain": [
       "212.0"
      ]
     },
     "execution_count": 124,
     "metadata": {},
     "output_type": "execute_result"
    }
   ],
   "source": [
    "fahrenheit(100)"
   ]
  },
  {
   "cell_type": "code",
   "execution_count": 125,
   "metadata": {},
   "outputs": [
    {
     "data": {
      "text/plain": [
       "<map at 0x1ffe21be4a8>"
      ]
     },
     "execution_count": 125,
     "metadata": {},
     "output_type": "execute_result"
    }
   ],
   "source": [
    "map(fahrenheit,[0,32,100])"
   ]
  },
  {
   "cell_type": "code",
   "execution_count": 126,
   "metadata": {
    "scrolled": true
   },
   "outputs": [
    {
     "data": {
      "text/plain": [
       "32.0"
      ]
     },
     "execution_count": 126,
     "metadata": {},
     "output_type": "execute_result"
    }
   ],
   "source": [
    "def f2(x):\n",
    "    return (9.0/5)*x +32\n",
    "f2(0)"
   ]
  },
  {
   "cell_type": "code",
   "execution_count": 127,
   "metadata": {},
   "outputs": [
    {
     "data": {
      "text/plain": [
       "<map at 0x1ffe21bb048>"
      ]
     },
     "execution_count": 127,
     "metadata": {},
     "output_type": "execute_result"
    }
   ],
   "source": [
    "map(f2,[0,32,100])"
   ]
  },
  {
   "cell_type": "code",
   "execution_count": 128,
   "metadata": {},
   "outputs": [
    {
     "name": "stdout",
     "output_type": "stream",
     "text": [
      "[32.0, 89.6, 212.0, 72.5]\n"
     ]
    }
   ],
   "source": [
    "#Map function\n",
    "r = list(map(fahrenheit,[0,32,100,22.5]))\n",
    "print(r)"
   ]
  },
  {
   "cell_type": "code",
   "execution_count": 129,
   "metadata": {
    "scrolled": true
   },
   "outputs": [
    {
     "name": "stdout",
     "output_type": "stream",
     "text": [
      "[1, 4, 9, 16, 25, 36, 49, 64, 81, 100]\n"
     ]
    }
   ],
   "source": [
    "s = list(map(square,[1,2,3,4,5,6,7,8,9,10]))\n",
    "print(s)"
   ]
  },
  {
   "cell_type": "code",
   "execution_count": 130,
   "metadata": {},
   "outputs": [
    {
     "name": "stdout",
     "output_type": "stream",
     "text": [
      "20\n"
     ]
    }
   ],
   "source": [
    "#Reduce function\n",
    "addLa = lambda x,y:x+y\n",
    "addList = [1,2,3,4,5,6,7,8,9,10]\n",
    "print(addLa(10,10))"
   ]
  },
  {
   "cell_type": "code",
   "execution_count": 131,
   "metadata": {},
   "outputs": [
    {
     "data": {
      "text/plain": [
       "55"
      ]
     },
     "execution_count": 131,
     "metadata": {},
     "output_type": "execute_result"
    }
   ],
   "source": [
    "from functools import reduce\n",
    "reduce(addLa,addList)"
   ]
  },
  {
   "cell_type": "code",
   "execution_count": 132,
   "metadata": {
    "collapsed": true
   },
   "outputs": [],
   "source": [
    "maxfind = lambda a,b: a if(a > b) else b\n",
    "minfind = lambda a,b: a if(a < b) else b"
   ]
  },
  {
   "cell_type": "code",
   "execution_count": 133,
   "metadata": {},
   "outputs": [
    {
     "name": "stdout",
     "output_type": "stream",
     "text": [
      "400\n",
      "333\n"
     ]
    }
   ],
   "source": [
    "print(maxfind(400,333))\n",
    "print(minfind(400,333))"
   ]
  },
  {
   "cell_type": "code",
   "execution_count": 134,
   "metadata": {},
   "outputs": [
    {
     "data": {
      "text/plain": [
       "10"
      ]
     },
     "execution_count": 134,
     "metadata": {},
     "output_type": "execute_result"
    }
   ],
   "source": [
    "reduce(maxfind,addList)"
   ]
  },
  {
   "cell_type": "code",
   "execution_count": 135,
   "metadata": {},
   "outputs": [
    {
     "name": "stdout",
     "output_type": "stream",
     "text": [
      "[752, 840, 830, 673, 669, 518, 224, 586, 23, 742]\n"
     ]
    }
   ],
   "source": [
    "import random\n",
    "lis = [random.randint(1,1000) for i in range(0,10)]\n",
    "print(lis)"
   ]
  },
  {
   "cell_type": "code",
   "execution_count": 136,
   "metadata": {},
   "outputs": [
    {
     "name": "stdout",
     "output_type": "stream",
     "text": [
      "840\n",
      "23\n"
     ]
    }
   ],
   "source": [
    "print(reduce(maxfind,lis))\n",
    "print(reduce(minfind,lis))"
   ]
  },
  {
   "cell_type": "code",
   "execution_count": 137,
   "metadata": {},
   "outputs": [
    {
     "name": "stdout",
     "output_type": "stream",
     "text": [
      "840\n",
      "23\n"
     ]
    }
   ],
   "source": [
    "print(reduce(max,lis))\n",
    "print(reduce(min,lis))"
   ]
  },
  {
   "cell_type": "code",
   "execution_count": 138,
   "metadata": {},
   "outputs": [
    {
     "name": "stdout",
     "output_type": "stream",
     "text": [
      "[21, 5, 14, 9, 25]\n",
      "[]\n"
     ]
    }
   ],
   "source": [
    "sorte = []\n",
    "lis3 = [random.randint(1,50) for i in range(0,5)]\n",
    "print(lis3)\n",
    "lis2 = [i for i in lis3]\n",
    "\"\"\"for i in range(0,len(lis2)):\n",
    "    smallest = reduce(minfind,lis2)\n",
    "    index = lis2.index(smallest)\n",
    "    sorte.append(lis2[index])\n",
    "    lis2.pop(index)\n",
    "\"\"\"\n",
    "print(sorte)"
   ]
  },
  {
   "cell_type": "code",
   "execution_count": 139,
   "metadata": {
    "scrolled": true
   },
   "outputs": [
    {
     "name": "stdout",
     "output_type": "stream",
     "text": [
      "Original list: [21, 5, 14, 9, 25]\n",
      "Final sorted list: [5, 9, 14, 21, 25]\n"
     ]
    }
   ],
   "source": [
    "sorte2 = []\n",
    "lis1 = [random.randint(1,50) for i in range(0,5)]\n",
    "lis4 = [i for i in lis3]\n",
    "def sorter(lis,sorte):\n",
    "    smallest = reduce(minfind,lis)\n",
    "    index = lis.index(smallest)\n",
    "    sorte.append(lis[index])\n",
    "    lis.pop(index)\n",
    "    if len(lis) == 0:   \n",
    "        return sorte\n",
    "    else:\n",
    "        return sorter(lis,sorte)\n",
    "sorte2 = sorter(lis4,sorte2)\n",
    "print(\"Original list: \"+str(lis3))\n",
    "print(\"Final sorted list: \"+str(sorte2))"
   ]
  },
  {
   "cell_type": "code",
   "execution_count": 140,
   "metadata": {},
   "outputs": [
    {
     "data": {
      "text/plain": [
       "100"
      ]
     },
     "execution_count": 140,
     "metadata": {},
     "output_type": "execute_result"
    }
   ],
   "source": [
    "def fun():\n",
    "    return 10*10\n",
    "fun()"
   ]
  },
  {
   "cell_type": "code",
   "execution_count": 141,
   "metadata": {},
   "outputs": [
    {
     "data": {
      "text/plain": [
       "True"
      ]
     },
     "execution_count": 141,
     "metadata": {},
     "output_type": "execute_result"
    }
   ],
   "source": [
    "even = lambda a: True if(a%2 == 0) else False\n",
    "even(300)"
   ]
  },
  {
   "cell_type": "code",
   "execution_count": 142,
   "metadata": {},
   "outputs": [
    {
     "data": {
      "text/plain": [
       "False"
      ]
     },
     "execution_count": 142,
     "metadata": {},
     "output_type": "execute_result"
    }
   ],
   "source": [
    "even(301)"
   ]
  },
  {
   "cell_type": "code",
   "execution_count": 143,
   "metadata": {},
   "outputs": [
    {
     "data": {
      "text/plain": [
       "True"
      ]
     },
     "execution_count": 143,
     "metadata": {},
     "output_type": "execute_result"
    }
   ],
   "source": [
    "odd = lambda a: True if(a%2 == 1) else False\n",
    "odd(301)"
   ]
  },
  {
   "cell_type": "code",
   "execution_count": 144,
   "metadata": {},
   "outputs": [
    {
     "data": {
      "text/plain": [
       "False"
      ]
     },
     "execution_count": 144,
     "metadata": {},
     "output_type": "execute_result"
    }
   ],
   "source": [
    "odd(300)"
   ]
  },
  {
   "cell_type": "code",
   "execution_count": 145,
   "metadata": {},
   "outputs": [
    {
     "name": "stdout",
     "output_type": "stream",
     "text": [
      "range(0, 10)\n"
     ]
    }
   ],
   "source": [
    "lis = range(10)\n",
    "print(lis)"
   ]
  },
  {
   "cell_type": "code",
   "execution_count": 146,
   "metadata": {},
   "outputs": [
    {
     "name": "stdout",
     "output_type": "stream",
     "text": [
      "[1, 3, 5, 7, 9]\n",
      "[0, 2, 4, 6, 8]\n"
     ]
    }
   ],
   "source": [
    "#filter\n",
    "print(list(filter(odd,lis)))\n",
    "print(list(filter(even,lis)))"
   ]
  },
  {
   "cell_type": "code",
   "execution_count": 147,
   "metadata": {},
   "outputs": [
    {
     "name": "stdout",
     "output_type": "stream",
     "text": [
      "range(0, 5)\n",
      "range(6, 10)\n",
      "[(0, 6), (1, 7), (2, 8), (3, 9)]\n"
     ]
    }
   ],
   "source": [
    "#zip\n",
    "lis04 = range(5)\n",
    "lis05 = range(6,10)\n",
    "print(lis04)\n",
    "print(lis05)\n",
    "print(list(zip(lis04,lis05)))"
   ]
  },
  {
   "cell_type": "code",
   "execution_count": 148,
   "metadata": {},
   "outputs": [
    {
     "name": "stdout",
     "output_type": "stream",
     "text": [
      "['0th', '1th', '2th', '3th', '4th', '5th', '6th', '7th', '8th', '9th']\n"
     ]
    }
   ],
   "source": [
    "#Enumarate\n",
    "l = [str(str(i)+\"th\") for i in range(0,10)]\n",
    "print(l)"
   ]
  },
  {
   "cell_type": "code",
   "execution_count": 149,
   "metadata": {},
   "outputs": [
    {
     "name": "stdout",
     "output_type": "stream",
     "text": [
      "0th --> 0\n",
      "1th --> 1\n",
      "2th --> 2\n",
      "3th --> 3\n",
      "4th --> 4\n",
      "5th --> 5\n",
      "6th --> 6\n",
      "7th --> 7\n",
      "8th --> 8\n",
      "9th --> 9\n"
     ]
    }
   ],
   "source": [
    "for i in l:\n",
    "    print(i+\" --> \"+str(l.index(i)))"
   ]
  },
  {
   "cell_type": "code",
   "execution_count": 150,
   "metadata": {},
   "outputs": [
    {
     "name": "stdout",
     "output_type": "stream",
     "text": [
      "Count: 0\n",
      "Item: 0th\n",
      "-----\n",
      "Count: 1\n",
      "Item: 1th\n",
      "-----\n",
      "Count: 2\n",
      "Item: 2th\n",
      "-----\n",
      "Count: 3\n",
      "Item: 3th\n",
      "-----\n",
      "Count: 4\n",
      "Item: 4th\n",
      "-----\n",
      "Count: 5\n",
      "Item: 5th\n",
      "-----\n",
      "Count: 6\n",
      "Item: 6th\n",
      "-----\n",
      "Count: 7\n",
      "Item: 7th\n",
      "-----\n",
      "Count: 8\n",
      "Item: 8th\n",
      "-----\n",
      "Count: 9\n",
      "Item: 9th\n",
      "-----\n"
     ]
    }
   ],
   "source": [
    "for (count,item) in enumerate(l):\n",
    "    print(\"Count: \"+str(count))\n",
    "    print(\"Item: \"+str(item))\n",
    "    print(\"-----\")"
   ]
  },
  {
   "cell_type": "code",
   "execution_count": 151,
   "metadata": {},
   "outputs": [
    {
     "name": "stdout",
     "output_type": "stream",
     "text": [
      "False\n",
      "True\n"
     ]
    }
   ],
   "source": [
    "#all and any\n",
    "g = [False,True,True,True,True,True]\n",
    "print(all(g))\n",
    "print(any(g))"
   ]
  },
  {
   "cell_type": "code",
   "execution_count": 152,
   "metadata": {
    "scrolled": true
   },
   "outputs": [
    {
     "data": {
      "text/plain": [
       "(2+3j)"
      ]
     },
     "execution_count": 152,
     "metadata": {},
     "output_type": "execute_result"
    }
   ],
   "source": [
    "#complex\n",
    "complex(2,3)"
   ]
  },
  {
   "cell_type": "code",
   "execution_count": 191,
   "metadata": {
    "scrolled": true
   },
   "outputs": [],
   "source": [
    "def red(l):\n",
    "    nl = set(l)\n",
    "    return nl"
   ]
  },
  {
   "cell_type": "code",
   "execution_count": 192,
   "metadata": {},
   "outputs": [
    {
     "name": "stdout",
     "output_type": "stream",
     "text": [
      "{1, 2, 3, 4, 5, 6, 7, 8, 1433}\n"
     ]
    }
   ],
   "source": [
    "l = [1433,4,1,2,1,2,3,3,4,4,5,5,6,5,6,3,4,5,7,8,6,6,7,8,5,4,4,6,7,7,8,8]\n",
    "v  = red(l)\n",
    "print(v)"
   ]
  },
  {
   "cell_type": "code",
   "execution_count": null,
   "metadata": {
    "collapsed": true
   },
   "outputs": [],
   "source": []
  }
 ],
 "metadata": {
  "kernelspec": {
   "display_name": "Python 3",
   "language": "python",
   "name": "python3"
  },
  "language_info": {
   "codemirror_mode": {
    "name": "ipython",
    "version": 3
   },
   "file_extension": ".py",
   "mimetype": "text/x-python",
   "name": "python",
   "nbconvert_exporter": "python",
   "pygments_lexer": "ipython3",
   "version": "3.6.1"
  }
 },
 "nbformat": 4,
 "nbformat_minor": 2
}
