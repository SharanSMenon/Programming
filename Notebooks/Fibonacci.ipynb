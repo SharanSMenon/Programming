{
 "cells": [
  {
   "cell_type": "markdown",
   "metadata": {},
   "source": [
    "# A comparision between two algorithms to compute fibonacci numbers"
   ]
  },
  {
   "cell_type": "markdown",
   "metadata": {},
   "source": [
    "## Algorithm number 1\n",
    "The fast fibonacci algorithm"
   ]
  },
  {
   "cell_type": "code",
   "execution_count": 2,
   "metadata": {},
   "outputs": [],
   "source": [
    "def _fib(n):\n",
    "    \"\"\"\n",
    "    Helper function to caclulate fibonacci numbers\n",
    "    \"\"\"\n",
    "    if n == 0:\n",
    "        return (0, 1)\n",
    "    else:\n",
    "        a, b = _fib(n // 2)\n",
    "        c = a * (b * 2 - a)\n",
    "        d = a * a + b * b\n",
    "        if n % 2 == 0:\n",
    "            return (c, d)\n",
    "        else:\n",
    "            return (d, c + d)\n",
    "def fast_fibonacci(n):\n",
    "        \"\"\"\n",
    "        Extremely efficient algorithm to calculate fibonacci numbers\n",
    "        \"\"\"\n",
    "        return _fib(n)[0]"
   ]
  },
  {
   "cell_type": "markdown",
   "metadata": {},
   "source": [
    "## Algorithm number 2\n",
    "This is the medium speed fibonacci algorithm"
   ]
  },
  {
   "cell_type": "code",
   "execution_count": 3,
   "metadata": {},
   "outputs": [],
   "source": [
    "def medium_fibonacci(n):\n",
    "    return_list = [0, 1]\n",
    "    for i in range(2, n + 1):\n",
    "        return_list.append(return_list[i - 1] + return_list[i - 2])\n",
    "    return return_list[n]"
   ]
  },
  {
   "cell_type": "code",
   "execution_count": 6,
   "metadata": {},
   "outputs": [
    {
     "name": "stdout",
     "output_type": "stream",
     "text": [
      "Enter your number: 456\n"
     ]
    }
   ],
   "source": [
    "# Comparing the two algorithms\n",
    "# Fast\n",
    "n = int(input(\"Enter your number: \"))"
   ]
  },
  {
   "cell_type": "code",
   "execution_count": 8,
   "metadata": {},
   "outputs": [
    {
     "name": "stdout",
     "output_type": "stream",
     "text": [
      "7.61 µs ± 213 ns per loop (mean ± std. dev. of 7 runs, 100000 loops each)\n",
      "Answer: 88895331094252224395547334812680590285351577786328700992010571109649289972956851261232789975392\n"
     ]
    }
   ],
   "source": [
    "# 7610 nanoseconds or 7.61 microseconds\n",
    "%timeit answer1 = fast_fibonacci(n)\n",
    "answer1 = fast_fibonacci(n)\n",
    "print(\"Answer: \"+str(answer1))"
   ]
  },
  {
   "cell_type": "code",
   "execution_count": 9,
   "metadata": {},
   "outputs": [
    {
     "name": "stdout",
     "output_type": "stream",
     "text": [
      "158 µs ± 3.95 µs per loop (mean ± std. dev. of 7 runs, 10000 loops each)\n",
      "Answer: 88895331094252224395547334812680590285351577786328700992010571109649289972956851261232789975392\n"
     ]
    }
   ],
   "source": [
    "# 158000 nanoseconds or 158 microseconds\n",
    "%timeit answer2 = medium_fibonacci(n)\n",
    "answer2 = medium_fibonacci(n)\n",
    "print(\"Answer: \"+str(answer2))"
   ]
  },
  {
   "cell_type": "markdown",
   "metadata": {},
   "source": [
    "## Results\n",
    "You can clearly see the difference between the two algorithms. The fast fibonacci algorithm is way faster than the medium speed fibonacci algorithm\n",
    "# The End\n",
    "Copyright 2018 Sharan Sajiv Menon"
   ]
  },
  {
   "cell_type": "code",
   "execution_count": null,
   "metadata": {},
   "outputs": [],
   "source": []
  }
 ],
 "metadata": {
  "kernelspec": {
   "display_name": "Python 3",
   "language": "python",
   "name": "python3"
  },
  "language_info": {
   "codemirror_mode": {
    "name": "ipython",
    "version": 3
   },
   "file_extension": ".py",
   "mimetype": "text/x-python",
   "name": "python",
   "nbconvert_exporter": "python",
   "pygments_lexer": "ipython3",
   "version": "3.6.3"
  }
 },
 "nbformat": 4,
 "nbformat_minor": 2
}
