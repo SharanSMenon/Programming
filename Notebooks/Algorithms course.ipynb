{
 "cells": [
  {
   "cell_type": "code",
   "execution_count": 1,
   "metadata": {},
   "outputs": [],
   "source": [
    "import numpy as np"
   ]
  },
  {
   "cell_type": "code",
   "execution_count": 2,
   "metadata": {},
   "outputs": [],
   "source": [
    "ls = [1,2,3,4]\n",
    "a1 = np.array(ls)\n"
   ]
  },
  {
   "cell_type": "code",
   "execution_count": 3,
   "metadata": {},
   "outputs": [
    {
     "name": "stdout",
     "output_type": "stream",
     "text": [
      "[1 2 3 4]\n"
     ]
    }
   ],
   "source": [
    "print(a1)"
   ]
  },
  {
   "cell_type": "code",
   "execution_count": 4,
   "metadata": {},
   "outputs": [
    {
     "data": {
      "text/plain": [
       "(4,)"
      ]
     },
     "execution_count": 4,
     "metadata": {},
     "output_type": "execute_result"
    }
   ],
   "source": [
    "a1.shape"
   ]
  },
  {
   "cell_type": "code",
   "execution_count": 5,
   "metadata": {},
   "outputs": [
    {
     "data": {
      "text/plain": [
       "array([1, 2, 3, 4])"
      ]
     },
     "execution_count": 5,
     "metadata": {},
     "output_type": "execute_result"
    }
   ],
   "source": [
    "a1"
   ]
  },
  {
   "cell_type": "code",
   "execution_count": 6,
   "metadata": {},
   "outputs": [
    {
     "data": {
      "text/plain": [
       "dtype('int32')"
      ]
     },
     "execution_count": 6,
     "metadata": {},
     "output_type": "execute_result"
    }
   ],
   "source": [
    "a1.dtype"
   ]
  },
  {
   "cell_type": "code",
   "execution_count": 7,
   "metadata": {},
   "outputs": [
    {
     "data": {
      "text/plain": [
       "array([ 0.,  0.,  0.,  0.,  0.])"
      ]
     },
     "execution_count": 7,
     "metadata": {},
     "output_type": "execute_result"
    }
   ],
   "source": [
    "np.zeros(5)"
   ]
  },
  {
   "cell_type": "code",
   "execution_count": 8,
   "metadata": {},
   "outputs": [
    {
     "data": {
      "text/plain": [
       "['add_newdocs',\n",
       " 'ModuleDeprecationWarning',\n",
       " 'VisibleDeprecationWarning',\n",
       " '__version__',\n",
       " 'pkgload',\n",
       " 'PackageLoader',\n",
       " 'show_config',\n",
       " 'char',\n",
       " 'rec',\n",
       " 'memmap',\n",
       " 'newaxis',\n",
       " 'ndarray',\n",
       " 'flatiter',\n",
       " 'nditer',\n",
       " 'nested_iters',\n",
       " 'ufunc',\n",
       " 'arange',\n",
       " 'array',\n",
       " 'zeros',\n",
       " 'count_nonzero',\n",
       " 'empty',\n",
       " 'broadcast',\n",
       " 'dtype',\n",
       " 'fromstring',\n",
       " 'fromfile',\n",
       " 'frombuffer',\n",
       " 'int_asbuffer',\n",
       " 'where',\n",
       " 'argwhere',\n",
       " 'copyto',\n",
       " 'concatenate',\n",
       " 'fastCopyAndTranspose',\n",
       " 'lexsort',\n",
       " 'set_numeric_ops',\n",
       " 'can_cast',\n",
       " 'promote_types',\n",
       " 'min_scalar_type',\n",
       " 'result_type',\n",
       " 'asarray',\n",
       " 'asanyarray',\n",
       " 'ascontiguousarray',\n",
       " 'asfortranarray',\n",
       " 'isfortran',\n",
       " 'empty_like',\n",
       " 'zeros_like',\n",
       " 'ones_like',\n",
       " 'correlate',\n",
       " 'convolve',\n",
       " 'inner',\n",
       " 'dot',\n",
       " 'outer',\n",
       " 'vdot',\n",
       " 'alterdot',\n",
       " 'restoredot',\n",
       " 'roll',\n",
       " 'rollaxis',\n",
       " 'moveaxis',\n",
       " 'cross',\n",
       " 'tensordot',\n",
       " 'array2string',\n",
       " 'get_printoptions',\n",
       " 'set_printoptions',\n",
       " 'array_repr',\n",
       " 'array_str',\n",
       " 'set_string_function',\n",
       " 'little_endian',\n",
       " 'require',\n",
       " 'fromiter',\n",
       " 'array_equal',\n",
       " 'array_equiv',\n",
       " 'indices',\n",
       " 'fromfunction',\n",
       " 'isclose',\n",
       " 'load',\n",
       " 'loads',\n",
       " 'isscalar',\n",
       " 'binary_repr',\n",
       " 'base_repr',\n",
       " 'ones',\n",
       " 'identity',\n",
       " 'allclose',\n",
       " 'compare_chararrays',\n",
       " 'putmask',\n",
       " 'seterr',\n",
       " 'geterr',\n",
       " 'setbufsize',\n",
       " 'getbufsize',\n",
       " 'seterrcall',\n",
       " 'geterrcall',\n",
       " 'errstate',\n",
       " 'flatnonzero',\n",
       " 'Inf',\n",
       " 'inf',\n",
       " 'infty',\n",
       " 'Infinity',\n",
       " 'nan',\n",
       " 'NaN',\n",
       " 'False_',\n",
       " 'True_',\n",
       " 'bitwise_not',\n",
       " 'CLIP',\n",
       " 'RAISE',\n",
       " 'WRAP',\n",
       " 'MAXDIMS',\n",
       " 'BUFSIZE',\n",
       " 'ALLOW_THREADS',\n",
       " 'ComplexWarning',\n",
       " 'full',\n",
       " 'full_like',\n",
       " 'matmul',\n",
       " 'shares_memory',\n",
       " 'may_share_memory',\n",
       " 'MAY_SHARE_BOUNDS',\n",
       " 'MAY_SHARE_EXACT',\n",
       " 'TooHardError',\n",
       " 'alen',\n",
       " 'all',\n",
       " 'alltrue',\n",
       " 'amax',\n",
       " 'amin',\n",
       " 'any',\n",
       " 'argmax',\n",
       " 'argmin',\n",
       " 'argpartition',\n",
       " 'argsort',\n",
       " 'around',\n",
       " 'choose',\n",
       " 'clip',\n",
       " 'compress',\n",
       " 'cumprod',\n",
       " 'cumproduct',\n",
       " 'cumsum',\n",
       " 'diagonal',\n",
       " 'mean',\n",
       " 'ndim',\n",
       " 'nonzero',\n",
       " 'partition',\n",
       " 'prod',\n",
       " 'product',\n",
       " 'ptp',\n",
       " 'put',\n",
       " 'rank',\n",
       " 'ravel',\n",
       " 'repeat',\n",
       " 'reshape',\n",
       " 'resize',\n",
       " 'round_',\n",
       " 'searchsorted',\n",
       " 'shape',\n",
       " 'size',\n",
       " 'sometrue',\n",
       " 'sort',\n",
       " 'squeeze',\n",
       " 'std',\n",
       " 'sum',\n",
       " 'swapaxes',\n",
       " 'take',\n",
       " 'trace',\n",
       " 'transpose',\n",
       " 'var',\n",
       " 'frompyfunc',\n",
       " 'seterrobj',\n",
       " 'geterrobj',\n",
       " 'absolute',\n",
       " 'add',\n",
       " 'arccos',\n",
       " 'arccosh',\n",
       " 'arcsin',\n",
       " 'arcsinh',\n",
       " 'arctan',\n",
       " 'arctan2',\n",
       " 'arctanh',\n",
       " 'bitwise_and',\n",
       " 'bitwise_or',\n",
       " 'bitwise_xor',\n",
       " 'cbrt',\n",
       " 'ceil',\n",
       " 'conjugate',\n",
       " 'copysign',\n",
       " 'cos',\n",
       " 'cosh',\n",
       " 'deg2rad',\n",
       " 'degrees',\n",
       " 'equal',\n",
       " 'exp',\n",
       " 'exp2',\n",
       " 'expm1',\n",
       " 'fabs',\n",
       " 'float_power',\n",
       " 'floor',\n",
       " 'floor_divide',\n",
       " 'fmax',\n",
       " 'fmin',\n",
       " 'fmod',\n",
       " 'frexp',\n",
       " 'greater',\n",
       " 'greater_equal',\n",
       " 'hypot',\n",
       " 'invert',\n",
       " 'isfinite',\n",
       " 'isinf',\n",
       " 'isnan',\n",
       " 'ldexp',\n",
       " 'left_shift',\n",
       " 'less',\n",
       " 'less_equal',\n",
       " 'log',\n",
       " 'log10',\n",
       " 'log1p',\n",
       " 'log2',\n",
       " 'logaddexp',\n",
       " 'logaddexp2',\n",
       " 'logical_and',\n",
       " 'logical_not',\n",
       " 'logical_or',\n",
       " 'logical_xor',\n",
       " 'maximum',\n",
       " 'minimum',\n",
       " 'modf',\n",
       " 'multiply',\n",
       " 'negative',\n",
       " 'nextafter',\n",
       " 'not_equal',\n",
       " 'power',\n",
       " 'rad2deg',\n",
       " 'radians',\n",
       " 'reciprocal',\n",
       " 'remainder',\n",
       " 'right_shift',\n",
       " 'rint',\n",
       " 'sign',\n",
       " 'signbit',\n",
       " 'sin',\n",
       " 'sinh',\n",
       " 'spacing',\n",
       " 'sqrt',\n",
       " 'square',\n",
       " 'subtract',\n",
       " 'tan',\n",
       " 'tanh',\n",
       " 'true_divide',\n",
       " 'trunc',\n",
       " 'pi',\n",
       " 'e',\n",
       " 'euler_gamma',\n",
       " 'ERR_IGNORE',\n",
       " 'ERR_WARN',\n",
       " 'ERR_CALL',\n",
       " 'ERR_RAISE',\n",
       " 'ERR_PRINT',\n",
       " 'ERR_LOG',\n",
       " 'ERR_DEFAULT',\n",
       " 'SHIFT_DIVIDEBYZERO',\n",
       " 'SHIFT_OVERFLOW',\n",
       " 'SHIFT_UNDERFLOW',\n",
       " 'SHIFT_INVALID',\n",
       " 'FPE_DIVIDEBYZERO',\n",
       " 'FPE_OVERFLOW',\n",
       " 'FPE_UNDERFLOW',\n",
       " 'FPE_INVALID',\n",
       " 'FLOATING_POINT_SUPPORT',\n",
       " 'UFUNC_PYVALS_NAME',\n",
       " 'UFUNC_BUFSIZE_DEFAULT',\n",
       " 'PINF',\n",
       " 'NINF',\n",
       " 'PZERO',\n",
       " 'NZERO',\n",
       " 'NAN',\n",
       " 'divide',\n",
       " 'conj',\n",
       " 'mod',\n",
       " 'sctypeDict',\n",
       " 'sctypeNA',\n",
       " 'typeDict',\n",
       " 'typeNA',\n",
       " 'sctypes',\n",
       " 'ScalarType',\n",
       " 'obj2sctype',\n",
       " 'cast',\n",
       " 'nbytes',\n",
       " 'sctype2char',\n",
       " 'maximum_sctype',\n",
       " 'issctype',\n",
       " 'typecodes',\n",
       " 'find_common_type',\n",
       " 'issubdtype',\n",
       " 'datetime_data',\n",
       " 'datetime_as_string',\n",
       " 'busday_offset',\n",
       " 'busday_count',\n",
       " 'is_busday',\n",
       " 'busdaycalendar',\n",
       " 'byte',\n",
       " 'ubyte',\n",
       " 'short',\n",
       " 'ushort',\n",
       " 'uint',\n",
       " 'intp',\n",
       " 'uintp',\n",
       " 'long',\n",
       " 'longlong',\n",
       " 'ulonglong',\n",
       " 'half',\n",
       " 'double',\n",
       " 'longdouble',\n",
       " 'cfloat',\n",
       " 'cdouble',\n",
       " 'clongdouble',\n",
       " 'unicode',\n",
       " 'void',\n",
       " 'generic',\n",
       " 'number',\n",
       " 'integer',\n",
       " 'inexact',\n",
       " 'signedinteger',\n",
       " 'unsignedinteger',\n",
       " 'floating',\n",
       " 'complexfloating',\n",
       " 'flexible',\n",
       " 'character',\n",
       " 'bool8',\n",
       " 'float16',\n",
       " 'float32',\n",
       " 'float64',\n",
       " 'complex64',\n",
       " 'complex128',\n",
       " 'object0',\n",
       " 'bytes0',\n",
       " 'str0',\n",
       " 'void0',\n",
       " 'datetime64',\n",
       " 'timedelta64',\n",
       " 'int32',\n",
       " 'uint32',\n",
       " 'int64',\n",
       " 'uint64',\n",
       " 'int16',\n",
       " 'uint16',\n",
       " 'int8',\n",
       " 'uint8',\n",
       " 'complex_',\n",
       " 'int0',\n",
       " 'uint0',\n",
       " 'single',\n",
       " 'csingle',\n",
       " 'singlecomplex',\n",
       " 'float_',\n",
       " 'intc',\n",
       " 'uintc',\n",
       " 'int_',\n",
       " 'longfloat',\n",
       " 'clongfloat',\n",
       " 'longcomplex',\n",
       " 'bool_',\n",
       " 'unicode_',\n",
       " 'object_',\n",
       " 'bytes_',\n",
       " 'str_',\n",
       " 'string_',\n",
       " 'alen',\n",
       " 'all',\n",
       " 'alltrue',\n",
       " 'amax',\n",
       " 'amin',\n",
       " 'any',\n",
       " 'argmax',\n",
       " 'argmin',\n",
       " 'argpartition',\n",
       " 'argsort',\n",
       " 'around',\n",
       " 'choose',\n",
       " 'clip',\n",
       " 'compress',\n",
       " 'cumprod',\n",
       " 'cumproduct',\n",
       " 'cumsum',\n",
       " 'diagonal',\n",
       " 'mean',\n",
       " 'ndim',\n",
       " 'nonzero',\n",
       " 'partition',\n",
       " 'prod',\n",
       " 'product',\n",
       " 'ptp',\n",
       " 'put',\n",
       " 'rank',\n",
       " 'ravel',\n",
       " 'repeat',\n",
       " 'reshape',\n",
       " 'resize',\n",
       " 'round_',\n",
       " 'searchsorted',\n",
       " 'shape',\n",
       " 'size',\n",
       " 'sometrue',\n",
       " 'sort',\n",
       " 'squeeze',\n",
       " 'std',\n",
       " 'sum',\n",
       " 'swapaxes',\n",
       " 'take',\n",
       " 'trace',\n",
       " 'transpose',\n",
       " 'var',\n",
       " 'record',\n",
       " 'recarray',\n",
       " 'format_parser',\n",
       " 'chararray',\n",
       " 'logspace',\n",
       " 'linspace',\n",
       " 'geomspace',\n",
       " 'MachAr',\n",
       " 'finfo',\n",
       " 'iinfo',\n",
       " 'atleast_1d',\n",
       " 'atleast_2d',\n",
       " 'atleast_3d',\n",
       " 'vstack',\n",
       " 'hstack',\n",
       " 'stack',\n",
       " 'einsum',\n",
       " 'einsum_path',\n",
       " 'matrix',\n",
       " 'bmat',\n",
       " 'mat',\n",
       " 'asmatrix',\n",
       " 'emath',\n",
       " 'math',\n",
       " 'iscomplexobj',\n",
       " 'isrealobj',\n",
       " 'imag',\n",
       " 'iscomplex',\n",
       " 'isreal',\n",
       " 'nan_to_num',\n",
       " 'real',\n",
       " 'real_if_close',\n",
       " 'typename',\n",
       " 'asfarray',\n",
       " 'mintypecode',\n",
       " 'asscalar',\n",
       " 'common_type',\n",
       " 'ravel_multi_index',\n",
       " 'unravel_index',\n",
       " 'mgrid',\n",
       " 'ogrid',\n",
       " 'r_',\n",
       " 'c_',\n",
       " 's_',\n",
       " 'index_exp',\n",
       " 'ix_',\n",
       " 'ndenumerate',\n",
       " 'ndindex',\n",
       " 'fill_diagonal',\n",
       " 'diag_indices',\n",
       " 'diag_indices_from',\n",
       " 'select',\n",
       " 'piecewise',\n",
       " 'trim_zeros',\n",
       " 'copy',\n",
       " 'iterable',\n",
       " 'percentile',\n",
       " 'diff',\n",
       " 'gradient',\n",
       " 'angle',\n",
       " 'unwrap',\n",
       " 'sort_complex',\n",
       " 'disp',\n",
       " 'flip',\n",
       " 'rot90',\n",
       " 'extract',\n",
       " 'place',\n",
       " 'vectorize',\n",
       " 'asarray_chkfinite',\n",
       " 'average',\n",
       " 'histogram',\n",
       " 'histogramdd',\n",
       " 'bincount',\n",
       " 'digitize',\n",
       " 'cov',\n",
       " 'corrcoef',\n",
       " 'msort',\n",
       " 'median',\n",
       " 'sinc',\n",
       " 'hamming',\n",
       " 'hanning',\n",
       " 'bartlett',\n",
       " 'blackman',\n",
       " 'kaiser',\n",
       " 'trapz',\n",
       " 'i0',\n",
       " 'add_newdoc',\n",
       " 'add_docstring',\n",
       " 'meshgrid',\n",
       " 'delete',\n",
       " 'insert',\n",
       " 'append',\n",
       " 'interp',\n",
       " 'add_newdoc_ufunc',\n",
       " 'column_stack',\n",
       " 'row_stack',\n",
       " 'dstack',\n",
       " 'array_split',\n",
       " 'split',\n",
       " 'hsplit',\n",
       " 'vsplit',\n",
       " 'dsplit',\n",
       " 'apply_over_axes',\n",
       " 'expand_dims',\n",
       " 'apply_along_axis',\n",
       " 'kron',\n",
       " 'tile',\n",
       " 'get_array_wrap',\n",
       " 'broadcast_to',\n",
       " 'broadcast_arrays',\n",
       " 'diag',\n",
       " 'diagflat',\n",
       " 'eye',\n",
       " 'fliplr',\n",
       " 'flipud',\n",
       " 'tri',\n",
       " 'triu',\n",
       " 'tril',\n",
       " 'vander',\n",
       " 'histogram2d',\n",
       " 'mask_indices',\n",
       " 'tril_indices',\n",
       " 'tril_indices_from',\n",
       " 'triu_indices',\n",
       " 'triu_indices_from',\n",
       " 'fix',\n",
       " 'isneginf',\n",
       " 'isposinf',\n",
       " 'pad',\n",
       " 'poly',\n",
       " 'roots',\n",
       " 'polyint',\n",
       " 'polyder',\n",
       " 'polyadd',\n",
       " 'polysub',\n",
       " 'polymul',\n",
       " 'polydiv',\n",
       " 'polyval',\n",
       " 'poly1d',\n",
       " 'polyfit',\n",
       " 'RankWarning',\n",
       " 'issubclass_',\n",
       " 'issubsctype',\n",
       " 'issubdtype',\n",
       " 'deprecate',\n",
       " 'deprecate_with_doc',\n",
       " 'get_include',\n",
       " 'info',\n",
       " 'source',\n",
       " 'who',\n",
       " 'lookfor',\n",
       " 'byte_bounds',\n",
       " 'safe_eval',\n",
       " 'ediff1d',\n",
       " 'intersect1d',\n",
       " 'setxor1d',\n",
       " 'union1d',\n",
       " 'setdiff1d',\n",
       " 'unique',\n",
       " 'in1d',\n",
       " 'savetxt',\n",
       " 'loadtxt',\n",
       " 'genfromtxt',\n",
       " 'ndfromtxt',\n",
       " 'mafromtxt',\n",
       " 'recfromtxt',\n",
       " 'recfromcsv',\n",
       " 'load',\n",
       " 'loads',\n",
       " 'save',\n",
       " 'savez',\n",
       " 'savez_compressed',\n",
       " 'packbits',\n",
       " 'unpackbits',\n",
       " 'fromregex',\n",
       " 'DataSource',\n",
       " 'fv',\n",
       " 'pmt',\n",
       " 'nper',\n",
       " 'ipmt',\n",
       " 'ppmt',\n",
       " 'pv',\n",
       " 'rate',\n",
       " 'irr',\n",
       " 'npv',\n",
       " 'mirr',\n",
       " 'nansum',\n",
       " 'nanmax',\n",
       " 'nanmin',\n",
       " 'nanargmax',\n",
       " 'nanargmin',\n",
       " 'nanmean',\n",
       " 'nanmedian',\n",
       " 'nanpercentile',\n",
       " 'nanvar',\n",
       " 'nanstd',\n",
       " 'nanprod',\n",
       " 'nancumsum',\n",
       " 'nancumprod',\n",
       " 'linalg',\n",
       " 'fft',\n",
       " 'random',\n",
       " 'ctypeslib',\n",
       " 'ma']"
      ]
     },
     "execution_count": 8,
     "metadata": {},
     "output_type": "execute_result"
    }
   ],
   "source": [
    "np.__all__"
   ]
  },
  {
   "cell_type": "code",
   "execution_count": 9,
   "metadata": {},
   "outputs": [],
   "source": [
    "def func_constant(values):\n",
    "    print(values[0])\n"
   ]
  },
  {
   "cell_type": "code",
   "execution_count": 10,
   "metadata": {},
   "outputs": [
    {
     "name": "stdout",
     "output_type": "stream",
     "text": [
      "1\n"
     ]
    }
   ],
   "source": [
    "lst = [1,2,3]\n",
    "func_constant(lst)\n"
   ]
  },
  {
   "cell_type": "code",
   "execution_count": 11,
   "metadata": {},
   "outputs": [],
   "source": [
    "def func_linear(values):\n",
    "    for val in values:\n",
    "        print(val)"
   ]
  },
  {
   "cell_type": "code",
   "execution_count": 12,
   "metadata": {},
   "outputs": [
    {
     "name": "stdout",
     "output_type": "stream",
     "text": [
      "1\n",
      "2\n",
      "3\n"
     ]
    }
   ],
   "source": [
    "func_linear(lst)"
   ]
  },
  {
   "cell_type": "code",
   "execution_count": 13,
   "metadata": {},
   "outputs": [],
   "source": [
    "def func_quadratic(lst):\n",
    "    for val in lst:\n",
    "        for val2 in lst:\n",
    "            print(\"(\"+str(val)+\", \"+str(val2)+\")\")\n"
   ]
  },
  {
   "cell_type": "code",
   "execution_count": 14,
   "metadata": {},
   "outputs": [
    {
     "name": "stdout",
     "output_type": "stream",
     "text": [
      "(1, 1)\n",
      "(1, 2)\n",
      "(1, 3)\n",
      "(2, 1)\n",
      "(2, 2)\n",
      "(2, 3)\n",
      "(3, 1)\n",
      "(3, 2)\n",
      "(3, 3)\n"
     ]
    }
   ],
   "source": [
    "func_quadratic(lst)"
   ]
  },
  {
   "cell_type": "code",
   "execution_count": 15,
   "metadata": {},
   "outputs": [],
   "source": [
    "def print_once(lst):\n",
    "    for val in lst:\n",
    "        print(val)"
   ]
  },
  {
   "cell_type": "code",
   "execution_count": 16,
   "metadata": {},
   "outputs": [
    {
     "name": "stdout",
     "output_type": "stream",
     "text": [
      "1\n",
      "2\n",
      "3\n"
     ]
    }
   ],
   "source": [
    "print_once(lst)"
   ]
  },
  {
   "cell_type": "code",
   "execution_count": 17,
   "metadata": {},
   "outputs": [],
   "source": [
    "def print_two(lst):\n",
    "    for val in lst:\n",
    "        print(val)\n",
    "    for val in lst:\n",
    "        print(val)\n",
    "    "
   ]
  },
  {
   "cell_type": "code",
   "execution_count": 18,
   "metadata": {},
   "outputs": [
    {
     "name": "stdout",
     "output_type": "stream",
     "text": [
      "1\n",
      "2\n",
      "3\n",
      "1\n",
      "2\n",
      "3\n"
     ]
    }
   ],
   "source": [
    "print_two(lst)"
   ]
  },
  {
   "cell_type": "code",
   "execution_count": 19,
   "metadata": {},
   "outputs": [],
   "source": [
    "import ctypes"
   ]
  },
  {
   "cell_type": "code",
   "execution_count": 28,
   "metadata": {},
   "outputs": [],
   "source": [
    "class DA(object):\n",
    "    def __init__(self):\n",
    "        self.n = 0\n",
    "        self.cap = 1\n",
    "        self.A = self.make_array(self.cap)\n",
    "    def __len__(self):\n",
    "        return self.n\n",
    "    def __getitem__(self,k):\n",
    "        if not 0 <= k < self.n:\n",
    "            raise IndexError('Index is out of range.')\n",
    "            return None\n",
    "        \n",
    "        return self.A[k]\n",
    "    def append(self, ele):\n",
    "        if self.n == self.cap:\n",
    "            self._resize(2*self.cap)\n",
    "        self.A[self.n] = ele\n",
    "        self.n +=13.\n",
    "    def _resize(self, new_cap):\n",
    "        B = self.make_array(new_cap)\n",
    "        for k in range(self.n):\n",
    "            B[k] = self.A[k]\n",
    "        self.A = B\n",
    "        self.cap = new_cap\n",
    "    def make_array(self,new_cap):\n",
    "        return (new_cap * ctypes.py_object)()\n"
   ]
  },
  {
   "cell_type": "code",
   "execution_count": 29,
   "metadata": {},
   "outputs": [],
   "source": [
    "arr = DA()"
   ]
  },
  {
   "cell_type": "code",
   "execution_count": 30,
   "metadata": {},
   "outputs": [],
   "source": [
    "arr.append(1)"
   ]
  },
  {
   "cell_type": "code",
   "execution_count": 31,
   "metadata": {},
   "outputs": [
    {
     "ename": "TypeError",
     "evalue": "'float' object cannot be interpreted as an integer",
     "output_type": "error",
     "traceback": [
      "\u001b[1;31m---------------------------------------------------------------------------\u001b[0m",
      "\u001b[1;31mTypeError\u001b[0m                                 Traceback (most recent call last)",
      "\u001b[1;32m<ipython-input-31-0854a2a4aae6>\u001b[0m in \u001b[0;36m<module>\u001b[1;34m()\u001b[0m\n\u001b[1;32m----> 1\u001b[1;33m \u001b[0mlen\u001b[0m\u001b[1;33m(\u001b[0m\u001b[0marr\u001b[0m\u001b[1;33m)\u001b[0m\u001b[1;33m\u001b[0m\u001b[0m\n\u001b[0m",
      "\u001b[1;31mTypeError\u001b[0m: 'float' object cannot be interpreted as an integer"
     ]
    }
   ],
   "source": [
    "len(arr)"
   ]
  },
  {
   "cell_type": "code",
   "execution_count": 32,
   "metadata": {},
   "outputs": [
    {
     "ename": "TypeError",
     "evalue": "indices must be integer",
     "output_type": "error",
     "traceback": [
      "\u001b[1;31m---------------------------------------------------------------------------\u001b[0m",
      "\u001b[1;31mTypeError\u001b[0m                                 Traceback (most recent call last)",
      "\u001b[1;32m<ipython-input-32-7415c72ecaea>\u001b[0m in \u001b[0;36m<module>\u001b[1;34m()\u001b[0m\n\u001b[1;32m----> 1\u001b[1;33m \u001b[0marr\u001b[0m\u001b[1;33m.\u001b[0m\u001b[0mappend\u001b[0m\u001b[1;33m(\u001b[0m\u001b[1;36m2\u001b[0m\u001b[1;33m)\u001b[0m\u001b[1;33m\u001b[0m\u001b[0m\n\u001b[0m",
      "\u001b[1;32m<ipython-input-28-30de13d41fa9>\u001b[0m in \u001b[0;36mappend\u001b[1;34m(self, ele)\u001b[0m\n\u001b[0;32m     15\u001b[0m         \u001b[1;32mif\u001b[0m \u001b[0mself\u001b[0m\u001b[1;33m.\u001b[0m\u001b[0mn\u001b[0m \u001b[1;33m==\u001b[0m \u001b[0mself\u001b[0m\u001b[1;33m.\u001b[0m\u001b[0mcap\u001b[0m\u001b[1;33m:\u001b[0m\u001b[1;33m\u001b[0m\u001b[0m\n\u001b[0;32m     16\u001b[0m             \u001b[0mself\u001b[0m\u001b[1;33m.\u001b[0m\u001b[0m_resize\u001b[0m\u001b[1;33m(\u001b[0m\u001b[1;36m2\u001b[0m\u001b[1;33m*\u001b[0m\u001b[0mself\u001b[0m\u001b[1;33m.\u001b[0m\u001b[0mcap\u001b[0m\u001b[1;33m)\u001b[0m\u001b[1;33m\u001b[0m\u001b[0m\n\u001b[1;32m---> 17\u001b[1;33m         \u001b[0mself\u001b[0m\u001b[1;33m.\u001b[0m\u001b[0mA\u001b[0m\u001b[1;33m[\u001b[0m\u001b[0mself\u001b[0m\u001b[1;33m.\u001b[0m\u001b[0mn\u001b[0m\u001b[1;33m]\u001b[0m \u001b[1;33m=\u001b[0m \u001b[0mele\u001b[0m\u001b[1;33m\u001b[0m\u001b[0m\n\u001b[0m\u001b[0;32m     18\u001b[0m         \u001b[0mself\u001b[0m\u001b[1;33m.\u001b[0m\u001b[0mn\u001b[0m \u001b[1;33m+=\u001b[0m\u001b[1;36m13.\u001b[0m\u001b[1;33m\u001b[0m\u001b[0m\n\u001b[0;32m     19\u001b[0m     \u001b[1;32mdef\u001b[0m \u001b[0m_resize\u001b[0m\u001b[1;33m(\u001b[0m\u001b[0mself\u001b[0m\u001b[1;33m,\u001b[0m \u001b[0mnew_cap\u001b[0m\u001b[1;33m)\u001b[0m\u001b[1;33m:\u001b[0m\u001b[1;33m\u001b[0m\u001b[0m\n",
      "\u001b[1;31mTypeError\u001b[0m: indices must be integer"
     ]
    }
   ],
   "source": [
    "arr.append(2)"
   ]
  },
  {
   "cell_type": "code",
   "execution_count": 25,
   "metadata": {},
   "outputs": [
    {
     "ename": "TypeError",
     "evalue": "'float' object cannot be interpreted as an integer",
     "output_type": "error",
     "traceback": [
      "\u001b[1;31m---------------------------------------------------------------------------\u001b[0m",
      "\u001b[1;31mTypeError\u001b[0m                                 Traceback (most recent call last)",
      "\u001b[1;32m<ipython-input-25-0854a2a4aae6>\u001b[0m in \u001b[0;36m<module>\u001b[1;34m()\u001b[0m\n\u001b[1;32m----> 1\u001b[1;33m \u001b[0mlen\u001b[0m\u001b[1;33m(\u001b[0m\u001b[0marr\u001b[0m\u001b[1;33m)\u001b[0m\u001b[1;33m\u001b[0m\u001b[0m\n\u001b[0m",
      "\u001b[1;31mTypeError\u001b[0m: 'float' object cannot be interpreted as an integer"
     ]
    }
   ],
   "source": [
    "len(arr)"
   ]
  },
  {
   "cell_type": "code",
   "execution_count": 26,
   "metadata": {},
   "outputs": [
    {
     "ename": "IndexError",
     "evalue": "invalid index",
     "output_type": "error",
     "traceback": [
      "\u001b[1;31m---------------------------------------------------------------------------\u001b[0m",
      "\u001b[1;31mIndexError\u001b[0m                                Traceback (most recent call last)",
      "\u001b[1;32m<ipython-input-26-62bda37481b6>\u001b[0m in \u001b[0;36m<module>\u001b[1;34m()\u001b[0m\n\u001b[1;32m----> 1\u001b[1;33m \u001b[0marr\u001b[0m\u001b[1;33m[\u001b[0m\u001b[1;36m1\u001b[0m\u001b[1;33m]\u001b[0m\u001b[1;33m\u001b[0m\u001b[0m\n\u001b[0m",
      "\u001b[1;32m<ipython-input-20-30de13d41fa9>\u001b[0m in \u001b[0;36m__getitem__\u001b[1;34m(self, k)\u001b[0m\n\u001b[0;32m     11\u001b[0m             \u001b[1;32mreturn\u001b[0m \u001b[1;32mNone\u001b[0m\u001b[1;33m\u001b[0m\u001b[0m\n\u001b[0;32m     12\u001b[0m \u001b[1;33m\u001b[0m\u001b[0m\n\u001b[1;32m---> 13\u001b[1;33m         \u001b[1;32mreturn\u001b[0m \u001b[0mself\u001b[0m\u001b[1;33m.\u001b[0m\u001b[0mA\u001b[0m\u001b[1;33m[\u001b[0m\u001b[0mk\u001b[0m\u001b[1;33m]\u001b[0m\u001b[1;33m\u001b[0m\u001b[0m\n\u001b[0m\u001b[0;32m     14\u001b[0m     \u001b[1;32mdef\u001b[0m \u001b[0mappend\u001b[0m\u001b[1;33m(\u001b[0m\u001b[0mself\u001b[0m\u001b[1;33m,\u001b[0m \u001b[0mele\u001b[0m\u001b[1;33m)\u001b[0m\u001b[1;33m:\u001b[0m\u001b[1;33m\u001b[0m\u001b[0m\n\u001b[0;32m     15\u001b[0m         \u001b[1;32mif\u001b[0m \u001b[0mself\u001b[0m\u001b[1;33m.\u001b[0m\u001b[0mn\u001b[0m \u001b[1;33m==\u001b[0m \u001b[0mself\u001b[0m\u001b[1;33m.\u001b[0m\u001b[0mcap\u001b[0m\u001b[1;33m:\u001b[0m\u001b[1;33m\u001b[0m\u001b[0m\n",
      "\u001b[1;31mIndexError\u001b[0m: invalid index"
     ]
    }
   ],
   "source": [
    "arr[1]"
   ]
  },
  {
   "cell_type": "code",
   "execution_count": 27,
   "metadata": {},
   "outputs": [
    {
     "name": "stdout",
     "output_type": "stream",
     "text": [
      "<__main__.DA object at 0x000001A8CCE14DD8>\n"
     ]
    }
   ],
   "source": [
    "print(arr)"
   ]
  },
  {
   "cell_type": "code",
   "execution_count": 40,
   "metadata": {},
   "outputs": [],
   "source": [
    "class stack(object):\n",
    "    #__init__ cannot be a lambda function\n",
    "    def __init__(self):\n",
    "        self.items = []\n",
    "    isEmpty = lambda self: self.items == []\n",
    "    push = lambda self, item: self.items.append(item)        \n",
    "    pop = lambda self: self.items.pop()\n",
    "    peek = lambda self: self.items[-1]\n",
    "    size = lambda self: len(self.items)\n",
    "    __str__ = lambda self: str(self.items)"
   ]
  },
  {
   "cell_type": "code",
   "execution_count": 41,
   "metadata": {},
   "outputs": [],
   "source": [
    "st = stack()"
   ]
  },
  {
   "cell_type": "code",
   "execution_count": 42,
   "metadata": {},
   "outputs": [],
   "source": [
    "st.push(1)"
   ]
  },
  {
   "cell_type": "code",
   "execution_count": 43,
   "metadata": {},
   "outputs": [],
   "source": [
    "st.push(2)\n",
    "st.push(3)\n",
    "st.push(4)\n",
    "st.push(5)"
   ]
  },
  {
   "cell_type": "code",
   "execution_count": 44,
   "metadata": {},
   "outputs": [
    {
     "name": "stdout",
     "output_type": "stream",
     "text": [
      "[1, 2, 3, 4, 5]\n"
     ]
    }
   ],
   "source": [
    "print(st)"
   ]
  },
  {
   "cell_type": "code",
   "execution_count": 45,
   "metadata": {},
   "outputs": [
    {
     "data": {
      "text/plain": [
       "5"
      ]
     },
     "execution_count": 45,
     "metadata": {},
     "output_type": "execute_result"
    }
   ],
   "source": [
    "st.size()"
   ]
  },
  {
   "cell_type": "code",
   "execution_count": 46,
   "metadata": {},
   "outputs": [
    {
     "data": {
      "text/plain": [
       "False"
      ]
     },
     "execution_count": 46,
     "metadata": {},
     "output_type": "execute_result"
    }
   ],
   "source": [
    "st.isEmpty()"
   ]
  },
  {
   "cell_type": "code",
   "execution_count": 47,
   "metadata": {},
   "outputs": [
    {
     "data": {
      "text/plain": [
       "5"
      ]
     },
     "execution_count": 47,
     "metadata": {},
     "output_type": "execute_result"
    }
   ],
   "source": [
    "st.peek()"
   ]
  },
  {
   "cell_type": "code",
   "execution_count": 48,
   "metadata": {},
   "outputs": [
    {
     "data": {
      "text/plain": [
       "5"
      ]
     },
     "execution_count": 48,
     "metadata": {},
     "output_type": "execute_result"
    }
   ],
   "source": [
    "st.size()"
   ]
  },
  {
   "cell_type": "code",
   "execution_count": 49,
   "metadata": {},
   "outputs": [],
   "source": [
    "class Q(object):\n",
    "    def __init__(self):\n",
    "        self.items = []\n",
    "    isEmpty = lambda self: self.items == []\n",
    "    enqueue = lambda self, item: self.items.insert(0, item)\n",
    "    dequeue = lambda self: self.items.pop()\n",
    "    def size(self):\n",
    "        return len(self.items)"
   ]
  },
  {
   "cell_type": "code",
   "execution_count": 50,
   "metadata": {},
   "outputs": [
    {
     "data": {
      "text/plain": [
       "0"
      ]
     },
     "execution_count": 50,
     "metadata": {},
     "output_type": "execute_result"
    }
   ],
   "source": [
    "q = Q()\n",
    "q.size()"
   ]
  },
  {
   "cell_type": "code",
   "execution_count": 51,
   "metadata": {},
   "outputs": [
    {
     "data": {
      "text/plain": [
       "True"
      ]
     },
     "execution_count": 51,
     "metadata": {},
     "output_type": "execute_result"
    }
   ],
   "source": [
    "q.isEmpty()"
   ]
  },
  {
   "cell_type": "code",
   "execution_count": 52,
   "metadata": {},
   "outputs": [],
   "source": [
    "q.enqueue(\"Hello\")"
   ]
  },
  {
   "cell_type": "code",
   "execution_count": 37,
   "metadata": {},
   "outputs": [
    {
     "data": {
      "text/plain": [
       "False"
      ]
     },
     "execution_count": 37,
     "metadata": {},
     "output_type": "execute_result"
    }
   ],
   "source": [
    "q.isEmpty()"
   ]
  },
  {
   "cell_type": "code",
   "execution_count": 38,
   "metadata": {},
   "outputs": [
    {
     "data": {
      "text/plain": [
       "1"
      ]
     },
     "execution_count": 38,
     "metadata": {},
     "output_type": "execute_result"
    }
   ],
   "source": [
    "q.size()"
   ]
  },
  {
   "cell_type": "code",
   "execution_count": 39,
   "metadata": {},
   "outputs": [
    {
     "data": {
      "text/plain": [
       "'Hello'"
      ]
     },
     "execution_count": 39,
     "metadata": {},
     "output_type": "execute_result"
    }
   ],
   "source": [
    "q.dequeue()"
   ]
  },
  {
   "cell_type": "code",
   "execution_count": 9,
   "metadata": {},
   "outputs": [
    {
     "data": {
      "text/plain": [
       "0"
      ]
     },
     "execution_count": 9,
     "metadata": {},
     "output_type": "execute_result"
    }
   ],
   "source": [
    "q.size()"
   ]
  },
  {
   "cell_type": "code",
   "execution_count": 10,
   "metadata": {},
   "outputs": [
    {
     "data": {
      "text/plain": [
       "True"
      ]
     },
     "execution_count": 10,
     "metadata": {},
     "output_type": "execute_result"
    }
   ],
   "source": [
    "q.isEmpty()"
   ]
  },
  {
   "cell_type": "code",
   "execution_count": 1,
   "metadata": {},
   "outputs": [],
   "source": [
    "class Deque:\n",
    "    def __init__(self):\n",
    "        self.items = []\n",
    "\n",
    "    def isEmpty(self):\n",
    "        return self.items == []\n",
    "\n",
    "    def addFront(self, item):\n",
    "        self.items.append(item)\n",
    "\n",
    "    def addRear(self, item):\n",
    "        self.items.insert(0,item)\n",
    "\n",
    "    def removeFront(self):\n",
    "        return self.items.pop()\n",
    "\n",
    "    def removeRear(self):\n",
    "        return self.items.pop(0)\n",
    "\n",
    "    def size(self):\n",
    "        return len(self.items)"
   ]
  },
  {
   "cell_type": "code",
   "execution_count": 2,
   "metadata": {},
   "outputs": [],
   "source": [
    "d = Deque()\n",
    "d.addFront(\"asdu\")"
   ]
  },
  {
   "cell_type": "code",
   "execution_count": null,
   "metadata": {},
   "outputs": [],
   "source": []
  }
 ],
 "metadata": {
  "kernelspec": {
   "display_name": "Python 3",
   "language": "python",
   "name": "python3"
  },
  "language_info": {
   "codemirror_mode": {
    "name": "ipython",
    "version": 3
   },
   "file_extension": ".py",
   "mimetype": "text/x-python",
   "name": "python",
   "nbconvert_exporter": "python",
   "pygments_lexer": "ipython3",
   "version": "3.6.1"
  }
 },
 "nbformat": 4,
 "nbformat_minor": 2
}
